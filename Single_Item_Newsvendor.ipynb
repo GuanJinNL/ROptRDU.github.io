{
 "cells": [
  {
   "cell_type": "markdown",
   "id": "99c1caf1",
   "metadata": {},
   "source": [
    "## Robust Optimization of Single-Item Newsvendor Problem"
   ]
  },
  {
   "cell_type": "markdown",
   "id": "b8ea062b",
   "metadata": {},
   "source": [
    "In the single-item newsvendor problem, a seller is uncertain about the demand of a certain product and has to decide in advance how many units of the product he/she wishes to order. The uncertainty in demand induces a loss, either in unsold items or in unmet demand. Let $d_i$ be the realization of the demand in state $i$. Let $c$ be the cost of one unit of order, $v>c$ be the selling price, $s<c$ be the salvage value per unsold item returned to the order factory, and $l$ be the loss per unit of unmet demand. Denote $y$ to be the number of items ordered. The profit function $r(d_i,y)$ is defined as\n",
    "\\begin{align}\n",
    "    r(d_i,y)&:=v\\min\\{d_i,y\\}+s(y-d_i)_+-l(d_i-y)_+-cy\\nonumber\\\\\n",
    "    &= (s-v)(y-d_i)_+-l(d_i-y)_++(v-c)y.\n",
    "\\end{align}\n",
    "Here, we assume that $d_i\\in \\{4,8,10\\}$ with three possible realizations corresponding to low demand, medium demand, and high demand. The nominal probability of these realizations is assumed to be $\\mathbf{p}=\\{0.375,0.375,0.25\\}$. We assume the number of items ordered will not exceed the maximal demand, i.e., $y\\leq 10$. For the parameter values we take $v=6,l=4,s=2,c=4$"
   ]
  },
  {
   "cell_type": "markdown",
   "id": "fb8f609f",
   "metadata": {},
   "source": [
    "We assume the risk preference of the seller is represented by a risk measure induced by the distortion function $h_{cv}(x)=\\min\\{x/(1-\\alpha_0),1\\}$ and the seller's uncertainty in the probability $\\mathbf{p}$ is measured by the Kullback-Leibler divergence function $\\phi_{kl}(x)=x\\log(x)-x+1$. This leads to the following robust optimization problem, where the worst case risk evaluation is minimized\n",
    "\\begin{align}\n",
    "\\min_{0\\leq y\\leq 10, t\\in \\mathbb{R}}\\{t|\\sup_{(\\mathbf{q},\\mathbf{\\bar{q}})\\in \\mathcal{U}_{\\phi_{kl},h_{cv}}}-\\sum^3_{i=1}\\bar{q}_ir(d_i,y)\\leq t\\}.\n",
    "\\end{align}\n",
    "Where\n",
    "\\begin{align}\n",
    "\\begin{split}\\label{uncertaintyset}\n",
    "   \\mathcal{U}_{\\phi_{kl},h_{cv}}(\mathbf{p})=\\{(\\mathbf{q},\\bar{\\mathbf{q}})\\in \\mathbb{R}^{6}_{\\geq 0}&: \\sum^3_{i=1} q_i=1,~\\sum^{3}_{i=1} \\bar{q}_i=1,~\\sum^3_{i=1}p_i\\phi_{kl}(\\frac{q_i}{p_i})-r\\leq 0\\\\\n",
    "    &\\bar{q}_1\\leq h_{cv}(q_1),~ \\bar{q}_2\\leq h_{cv}(q_2),~\\bar{q}_3\\leq h_{cv}(q_3)\\\\\n",
    "    &\\bar{q}_1+\\bar{q}_2\\leq h_{cv}(q_1+q_2),~ \\bar{q}_1+\\bar{q}_3\\leq h_{cv}(q_1+q_3),\\bar{q}_2+\\bar{q}_3\\leq h_{cv}(q_2+q_3)\n",
    "    \\}.\n",
    "\\end{split}\n",
    "\\end{align}"
   ]
  },
  {
   "cell_type": "markdown",
   "id": "ea720914",
   "metadata": {},
   "source": [
    "Using reformulation technique, this robust optimization problem is eqvuialent to the following convex problem with finitely many constraints\n",
    "\\begin{align}\\label{newsvendor:robust}\n",
    "    \\begin{split}\n",
    "      \\min_{\\substack{y\\in[0,10]\\\\ t, \\alpha,\\beta, \\nu_j\\in \\mathbb{R}\\\\ \\gamma,\\lambda_j\\geq 0}}&~t\\\\\n",
    "     \\text{subject to}~\n",
    "        &\\alpha+\\beta+\\gamma r +\\sum^3_{i=1}p_i\\gamma \\phi_{kl}^*\\left(\\frac{-\\alpha+\\sum_{j: i\\in I_j}\\nu_j}{\\gamma}\\right)+\\sum^6_{j=1}\\lambda_j(-h_{cv})^*\\left(\\frac{-\\nu_j}{\\lambda_j}\\right)\\leq t\\\\\n",
    "        &-r(d_i,y)-\\beta-\\sum_{j:i\\in I_j}\\lambda_j\\leq 0,~i=1,2,3,\n",
    "    \\end{split}\n",
    "\\end{align}\n",
    "where $I_1,\\ldots , I_6$ are the subsets of $\\{1,\\ldots,6\\}$ that are not the empty set or the entire set. $\\phi^*_{kl}$ and $h^*_{cv}$ are the convex conjugates of $\\phi_{kl}$ and $h_{cv}$.\n"
   ]
  },
  {
   "cell_type": "markdown",
   "id": "4628064e",
   "metadata": {},
   "source": [
    "We can solve the above problem using CVXPY. First we import the necessary packages."
   ]
  },
  {
   "cell_type": "code",
   "execution_count": 2,
   "id": "51074f6f",
   "metadata": {},
   "outputs": [],
   "source": [
    "import numpy as np\n",
    "import cvxpy as cp\n",
    "import pandas as pd\n",
    "import mosek\n",
    "import matplotlib.pyplot as plt\n",
    "### importing the phi-divergence functions \n",
    "import phi_divergence as phi        \n",
    "### importing the distortion functions\n",
    "import distortion_function as hf    \n",
    "import scipy.stats\n",
    "from itertools import chain, combinations"
   ]
  },
  {
   "cell_type": "markdown",
   "id": "323977fc",
   "metadata": {},
   "source": [
    "Defining the parameter values of demands, nominal probability, costs, etc. "
   ]
  },
  {
   "cell_type": "code",
   "execution_count": 3,
   "id": "26b0139f",
   "metadata": {},
   "outputs": [],
   "source": [
    "d = np.array([4,8,10])\n",
    "p = np.array([0.375,0.375,0.25])\n",
    "### parameter values of [v,l,s,c]\n",
    "par_news = np.array([6,4,2,4])    "
   ]
  },
  {
   "cell_type": "markdown",
   "id": "62eff978",
   "metadata": {},
   "source": [
    "Defining the phi-divergence conjugate function, which in this case is the conjugate of kullback-leibler divergence."
   ]
  },
  {
   "cell_type": "code",
   "execution_count": 4,
   "id": "86a28736",
   "metadata": {},
   "outputs": [],
   "source": [
    "### the epigraph of the phi conjugate function\n",
    "phi_conj = phi.kb_conj  \n",
    "### the epigraph of the phi function\n",
    "phi_func = phi.kb_cut   \n",
    "### evaluation of the phi function\n",
    "phi_eva = phi.kb_eva     \n",
    "### phi''_kl(1), second derivative of kl_divergence function evaluated at 1, which is equal to 1.\n",
    "### Note that this has to be calculated by hand, which is usually not hard.\n",
    "phi_dot = 1   \n",
    "\n",
    "### Number of realisations of the demand d, which determines the phi-divergence radius\n",
    "m = len(d)\n",
    "### We assume p is estimated with this sample size\n",
    "n= 100\n",
    "### confidence parameter for the phi-divergence uncertainty set\n",
    "alpha = 0.95   \n",
    "### definition of radius of the phi-divergence set, chosen such that the confidence at alpha level.\n",
    "r = phi_dot/(2*n)*scipy.stats.chi2.ppf(alpha, m-1)  "
   ]
  },
  {
   "cell_type": "markdown",
   "id": "c8e79811",
   "metadata": {},
   "source": [
    "Similarly, we define the necessary variables for the distortion function"
   ]
  },
  {
   "cell_type": "code",
   "execution_count": 5,
   "id": "bcefa0ee",
   "metadata": {},
   "outputs": [],
   "source": [
    "### the conjugate of the h function writte in its epigraph representation\n",
    "h_conj = hf.h_cvar_conj   \n",
    "### h_eva can be used when we need to evaluate the h function\n",
    "h_eva = hf.h_cvar_eva   \n",
    "### the epigraph of the h function\n",
    "h_func = hf.h_cvar_cut \n",
    "### parameter of the h function, in the h_cv case, this is alpha, the quantile parameter\n",
    "par = 0.4  "
   ]
  },
  {
   "cell_type": "markdown",
   "id": "9910514c",
   "metadata": {},
   "source": [
    "The reformulated robust problem can be solved by defining the following functions"
   ]
  },
  {
   "cell_type": "code",
   "execution_count": 6,
   "id": "4a7f44d0",
   "metadata": {},
   "outputs": [],
   "source": [
    "### This function makes all subsets given a number of indices.\n",
    "def powerset(iterable):                     \n",
    "    \"powerset([1,2,3]) --> () (1,) (2,) (3,) (1,2) (1,3) (2,3) (1,2,3)\"\n",
    "    s = list(iterable)\n",
    "    return chain.from_iterable(combinations(s, r) for r in range(len(s)+1))\n",
    "\n",
    "### making all the subsets of {1,...,m} except the empty set and the whole set.\n",
    "psets = list(powerset(list(range(m))))   \n",
    "for i in range(1,len(psets)):\n",
    "    psets[i] = list(psets[i])\n",
    "psets = psets[1:(len(psets)-1)]\n",
    "sets = psets\n",
    "\n",
    "\n",
    " ### This function can solve the reformulated problem\n",
    "def RC_newsvendor_riskmin(sets,p,d,r,par,par_news,phi_conj, h_conj):   \n",
    "    N = len(p)\n",
    "    M = len(sets)\n",
    "    v = cp.Variable(M)\n",
    "    lbda = cp.Variable(M, nonneg = True)\n",
    "    y = cp.Variable(1, nonneg = True)\n",
    "    alpha, beta, c = [cp.Variable(1), cp.Variable(1), cp.Variable(1)]\n",
    "    gamma = cp.Variable(1,nonneg = True)\n",
    "    [v_news, l_news, s_news, c_news] = par_news\n",
    "    z = cp.Variable(M)\n",
    "    t, z2 = [cp.Variable(N), cp.Variable(N)]\n",
    "    s = cp.Variable(N)\n",
    "    w2_phi = cp.Variable(N)\n",
    "    l1 = (v_news+l_news-c_news)*y*(np.zeros(N)+1) - l_news*d\n",
    "    l2 = (s_news-c_news)*y*(np.zeros(N)+1) + (v_news-s_news)*d\n",
    "    constraints = [y<=np.max(d), z2 <= l1, z2 <= l2]\n",
    "    for i in range(N):\n",
    "        lbdasum = 0\n",
    "        vsum = 0\n",
    "        for j in range(M):\n",
    "            if i in sets[j]:\n",
    "                lbdasum = lbdasum + lbda[j]\n",
    "                vsum = vsum + v[j]\n",
    "        constraints.append(-z2[i] - lbdasum - beta <= 0)\n",
    "        constraints.append(s[i] == -alpha + vsum)\n",
    "    constraints = phi_conj(gamma,s,t,w2_phi,constraints)\n",
    "    constraints = h_conj(lbda,v,z,par,constraints)\n",
    "    constraints.append(alpha + beta + gamma * r  + cp.sum(z) + p@t <= c)\n",
    "    obj = cp.Minimize(c)\n",
    "    prob = cp.Problem(obj,constraints)\n",
    "    prob.solve(solver=cp.MOSEK)\n",
    "    return(y.value, c.value)"
   ]
  },
  {
   "cell_type": "markdown",
   "id": "177554b3",
   "metadata": {},
   "source": [
    "To compare the robust solution to the nominal solution, we also solve the nominal problem, where the risk evaluation is minimized with respect to the nominal probability $\\mathbf{p}$\n",
    "\\begin{align*}\n",
    "    \\min_{0\\leq y\\leq 10, t\\in \\mathbb{R}}\\{t|\\sup_{\\mathbf{\\bar{q}}\\in M_h(\\mathbf{p})}-\\sum^3_{i=1}\\bar{q}_ir(d_i,y)\\leq t\\},\n",
    "\\end{align*}\n",
    "where \n",
    "\\begin{align*}\n",
    "    M_h(\\mathbf{p})=\\{\\mathbf{\\bar{q}}\\in \\mathbb{R}^3_{\\geq 0}|~\\sum^3_{i=1}\\bar{q}_i=1, \\sum_{k\\in I_j}\\bar{q}_k\\leq h(\\sum_{k\\in I_j}p_k), I_1,\\ldots,I_6.\\}\n",
    "\\end{align*}\n",
    "Since the set $M_h(\\mathbf{p})$ consists of linear inequalities, the nominal problem can be easily reformulated to the following convex problem\n",
    "\\begin{align*}\n",
    " \\min_{\\substack{y\\in[0,10]\\\\ t,\\beta, \\nu_j\\in \\mathbb{R}\\\\ \\gamma,\\lambda_j\\geq 0}}&~t\\\\\n",
    "     \\text{subject to}~\n",
    "        &\\beta+ \\sum_{j=1}^6\\lambda_jh(\\sum_{k\\in I_j}p_k)\\leq t\\\\\n",
    "        &-r(d_i,y)-\\beta-\\sum_{j:i\\in I_j}\\lambda_j\\leq 0,~i=1,2,3.   \n",
    "\\end{align*}"
   ]
  },
  {
   "cell_type": "code",
   "execution_count": 7,
   "id": "868a26ad",
   "metadata": {},
   "outputs": [],
   "source": [
    "### This function can solve the nominal problem\n",
    "\n",
    "def nominal_solve(sets,p,d,par,par_news, h_eva):\n",
    "    N = len(p)\n",
    "    M = len(sets)\n",
    "    lbda = cp.Variable(M, nonneg = True)\n",
    "    y = cp.Variable(1, nonneg = True)\n",
    "    beta, c = [cp.Variable(1), cp.Variable(1)]\n",
    "    [v_news, l_news, s_news, c_news] = par_news\n",
    "    z2 = cp.Variable(N)\n",
    "    l1 = (v_news+l_news-c_news)*y*(np.zeros(N)+1) - l_news*d\n",
    "    l2 = (s_news-c_news)*y*(np.zeros(N)+1) + (v_news-s_news)*d\n",
    "    constraints = [y<= np.max(d), z2 <= l1, z2 <= l2]\n",
    "    h_jsum = 0\n",
    "    for i in range(N):\n",
    "        lbdasum = 0\n",
    "        for j in range(M):\n",
    "            if i in sets[j]:\n",
    "                lbdasum = lbdasum + lbda[j]\n",
    "        constraints.append(-z2[i] - lbdasum - beta <= 0)\n",
    "    for j in range(M):\n",
    "         h_jsum = h_jsum + lbda[j]*h_eva(np.sum(p[sets[j]]),par)\n",
    "    constraints.append(beta  + h_jsum <= c)\n",
    "    obj = cp.Minimize(c)\n",
    "    prob = cp.Problem(obj,constraints)\n",
    "    prob.solve(solver=cp.MOSEK)\n",
    "    return(y.value, c.value)"
   ]
  },
  {
   "cell_type": "markdown",
   "id": "2a3a5a0a",
   "metadata": {},
   "source": [
    "We perform the following experiment to compare the robust solution to the nominal solution. We choose a range of (fictitious) sample size $n= 10, 20,\\ldots 200$. This sample size is purely artificial: we treat $\\mathbf{p}$ as estimated from a sample of size $n$. We also examine a range of quantile levels $\\alpha_0 = 0.4, 0.3, 0.2, 0.1$ for the distortion risk measure. For both the robust and the nominal solution, we compare their worst case risk evaluation. For the robust solution, the worst case risk evaluation is simply the objective value of the robust problem i.e. the worst case risk evaluation minimization problem. For the nominal solution, the worst case risk evaluation is the objective value of the robust problem evaluated in this solution, which can be calculated by the following function."
   ]
  },
  {
   "cell_type": "code",
   "execution_count": 8,
   "id": "a566d3f3",
   "metadata": {},
   "outputs": [],
   "source": [
    "### This function compute the worst case risk evaluation given a solution y\n",
    "\n",
    "def robustcheck_newsvendor(y,d,r,p,par,par_news,h_func, phi_func):\n",
    "    N = len(p)\n",
    "    x = np.zeros(N)\n",
    "    [v_news, l_news, s_news, c_news] = par_news\n",
    "    for i in range(N):\n",
    "        x[i] = v_news*np.minimum(d[i],y)+s_news*np.maximum(y-d[i],0)-l_news*np.maximum(d[i]-y,0)-c_news*y\n",
    "    rank = np.argsort(x)\n",
    "    q_b = cp.Variable(N, nonneg = True)\n",
    "    q = cp.Variable(N, nonneg=True)\n",
    "    constraints = [cp.sum(q) == 1, cp.sum(q_b)==1]\n",
    "    constraints = h_func(q_b,q,rank,par,constraints)\n",
    "    constraints = phi_func(p,q,r,par,constraints)\n",
    "    obj = cp.Maximize(-q_b.T @ x)\n",
    "    prob = cp.Problem(obj,constraints)\n",
    "    prob.solve(solver=cp.MOSEK)\n",
    "    return(prob.value,q_b.value,q.value)\n",
    "\n",
    "def wc(y,d,r,p,par,par_news, phi_func, sets):\n",
    "    N = len(p)\n",
    "    M = len(sets)\n",
    "    x = np.zeros(N)\n",
    "    [v_news, l_news, s_news, c_news] = par_news\n",
    "    for i in range(N):\n",
    "        x[i] = v_news*np.minimum(d[i],y)+s_news*np.maximum(y-d[i],0)-l_news*np.maximum(d[i]-y,0)-c_news*y\n",
    "    q_b = cp.Variable(N, nonneg = True)\n",
    "    q = cp.Variable(N, nonneg=True)\n",
    "    constraints = [cp.sum(q) == 1, cp.sum(q_b)==1]\n",
    "    constraints = phi_func(p,q,r,par,constraints)\n",
    "    for j in range(M):\n",
    "        q_sum = 0\n",
    "        qb_sum = 0\n",
    "        for i in range(N):\n",
    "            if i in sets[j]:\n",
    "                q_sum = q_sum + q[i]\n",
    "                qb_sum = qb_sum + q_b[i]\n",
    "        h_cons = (1+par)*q_sum-par*(q_sum)**2\n",
    "        constraints.append(qb_sum-h_cons <= 0)\n",
    "    obj = cp.Maximize(-q_b.T @ x)\n",
    "    prob = cp.Problem(obj,constraints)\n",
    "    prob.solve(solver=cp.MOSEK)\n",
    "    return(prob.value,q_b.value,q.value)\n",
    "\n"
   ]
  },
  {
   "cell_type": "markdown",
   "id": "e3122b85",
   "metadata": {},
   "source": [
    "The following code performs the experiment and output the graph of the worst case risk evaluation of the robust and the nominal solutions, with respect to the sample size $n$."
   ]
  },
  {
   "cell_type": "code",
   "execution_count": 10,
   "id": "8313c52d",
   "metadata": {},
   "outputs": [
    {
     "data": {
      "text/plain": [
       "<matplotlib.legend.Legend at 0x1bfc7529110>"
      ]
     },
     "execution_count": 10,
     "metadata": {},
     "output_type": "execute_result"
    },
    {
     "data": {
      "image/png": "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",
      "text/plain": [
       "<Figure size 640x480 with 1 Axes>"
      ]
     },
     "metadata": {},
     "output_type": "display_data"
    }
   ],
   "source": [
    "nsize = np.arange(10,210,10)\n",
    "L = len(nsize)\n",
    "wcrisk_rob = np.zeros(L)\n",
    "wcrisk_nom = np.zeros(L)\n",
    "for i in range(L):\n",
    "    r = phi_dot/(2*nsize[i])*scipy.stats.chi2.ppf(0.95, m-1)\n",
    "    wcrisk_rob[i] = RC_newsvendor_riskmin(sets,p,d,r,par,par_news,phi_conj, h_conj)[1]\n",
    "    res_nom = nominal_solve(sets,p,d,par,par_news, h_eva)[0]\n",
    "    wcrisk_nom[i] = robustcheck_newsvendor(res_nom,d,r,p,par,par_news,h_func, phi_func)[0]\n",
    "plt.plot(nsize, wcrisk_rob, label = 'robust solution')\n",
    "plt.plot(nsize, wcrisk_nom,'--', label = 'nominal solution')\n",
    "plt.xlabel('n')\n",
    "plt.ylabel('worst case risk evaluation')\n",
    "plt.legend()"
   ]
  },
  {
   "cell_type": "markdown",
   "id": "bbea29bb",
   "metadata": {},
   "source": [
    "In the second experiment, we compare the robust solution and the nominal solution by computing its risk evaluation with respect to a sample of probability vectors. We use the Hit-and-Run algorithm to sample 5000 probability vectors $\\mathbf{q}$ in the $\\phi$-divergence uncertainty set $\\mathcal{D}_{\\phi}(\\mathbf{p},r)$ for $n=50$. For each sampled vector $\\mathbf{q}$, we calculate the risk evaluation $\\rho_{h_{cv},\\mathbf{q}}$ for $\\alpha_0=0.4$."
   ]
  },
  {
   "cell_type": "code",
   "execution_count": 11,
   "id": "a8bfb160",
   "metadata": {},
   "outputs": [],
   "source": [
    "import Hit_and_Run as hr \n",
    "\n",
    "#### This function calculates the risk with respect to any probability vector\n",
    "\n",
    "def nominal_risk(y,d,p,par,par_news, h_eva):   \n",
    "    N = len(p)\n",
    "    [v_news, l_news, s_news, c_news] = par_news\n",
    "    x = np.zeros(N)\n",
    "    for i in range(N):\n",
    "        x[i] = v_news*np.minimum(d[i],y)+s_news*np.maximum(y-d[i],0)-l_news*np.maximum(d[i]-y,0)-c_news*y\n",
    "    rank = np.argsort(x)\n",
    "    q_b = np.zeros(N)\n",
    "    q_b[rank[0]] = h_eva(p[rank[0]],par)\n",
    "    risk = -q_b[rank[0]]*x[rank[0]]\n",
    "    for i in range(1,N):\n",
    "        q_b[rank[i]] = h_eva(np.sum(p[rank[0:i+1]]),par)-h_eva(np.sum(p[rank[0:i]]),par)\n",
    "        risk = risk - q_b[rank[i]]*x[rank[i]]\n",
    "    return(risk)"
   ]
  },
  {
   "cell_type": "code",
   "execution_count": 12,
   "id": "0c9b9dc1",
   "metadata": {},
   "outputs": [],
   "source": [
    "np.random.seed(10)\n",
    "n = 50\n",
    "r = phi_dot/(2*n)*scipy.stats.chi2.ppf(alpha, m-1)\n",
    "### simulating the probability vectors in the phi-divergence uncertainty set\n",
    "prob = hr.hit_and_run(p,phi.kb_eva,r,1,5000)  "
   ]
  },
  {
   "cell_type": "markdown",
   "id": "ee796ac1",
   "metadata": {},
   "source": [
    "The following code compute the robust solution and the nominal solution and calculate the risk of both solutions with respect to a sample of probability vectors."
   ]
  },
  {
   "cell_type": "code",
   "execution_count": 13,
   "id": "8bb26d0a",
   "metadata": {},
   "outputs": [],
   "source": [
    "### computing the robust solution\n",
    "news_result = RC_newsvendor_riskmin(sets,p,d,r,par,par_news,phi_conj, h_conj)   \n",
    "### Computing the nominal solution\n",
    "news_nom_result = nominal_solve(sets,p,d,par,par_news, h_eva)  \n",
    "\n",
    "\n",
    "l = len(prob)\n",
    "risk_rob = np.zeros(l)\n",
    "risk_nonrob = np.zeros(l)\n",
    "for i in range(l):\n",
    "    risk_rob[i] = nominal_risk(news_result[0],d,prob[i],par,par_news, h_eva)\n",
    "    risk_nonrob[i] = nominal_risk(news_nom_result[0],d,prob[i],par,par_news, h_eva)"
   ]
  },
  {
   "cell_type": "markdown",
   "id": "e058b501",
   "metadata": {},
   "source": [
    "Plotting the graph"
   ]
  },
  {
   "cell_type": "code",
   "execution_count": 14,
   "id": "ea62656f",
   "metadata": {},
   "outputs": [
    {
     "data": {
      "text/plain": [
       "<matplotlib.legend.Legend at 0x1bfc75fc3d0>"
      ]
     },
     "execution_count": 14,
     "metadata": {},
     "output_type": "execute_result"
    },
    {
     "data": {
      "image/png": "iVBORw0KGgoAAAANSUhEUgAAAjcAAAGwCAYAAABVdURTAAAAOXRFWHRTb2Z0d2FyZQBNYXRwbG90bGliIHZlcnNpb24zLjcuMSwgaHR0cHM6Ly9tYXRwbG90bGliLm9yZy/bCgiHAAAACXBIWXMAAA9hAAAPYQGoP6dpAAA0FElEQVR4nO3df3zP9f7/8ft7m23GfjFmGFtibYSM/EqI/MxBQhJxpJxC7KiI8iOOCll08qPyIzodOcZRJFP5rfzaUlnId2wxCZ0tdPbz9f3D8f5428w2s/c83a6Xy+ty8Xq+nq/X6/F6v2fv+16v5/v1slmWZQkAAMAQLs4uAAAAoDgRbgAAgFEINwAAwCiEGwAAYBTCDQAAMArhBgAAGIVwAwAAjOLm7AJKWk5Ojk6ePClvb2/ZbDZnlwMAAArAsiz9/vvvqlq1qlxc8j83c9uFm5MnTyo4ONjZZQAAgCJITk5W9erV8+1z24Ubb29vSZdeHB8fHydXAwAACiItLU3BwcH2z/H83Hbh5vKlKB8fH8INAAC3mIIMKWFAMQAAMArhBgAAGIVwAwAAjHLbjbkpqOzsbGVmZjq7DNzm3N3dr/uVRwCAI8LNVSzL0qlTp/Sf//zH2aUAcnFxUWhoqNzd3Z1dCgDcMgg3V7kcbCpXriwvLy9u9AenuXzDyZSUFNWoUYOfRQAoIMLNFbKzs+3BpmLFis4uB1ClSpV08uRJZWVlqUyZMs4uBwBuCVzMv8LlMTZeXl5OrgS45PLlqOzsbCdXAgC3DsJNHjj9j9KCn0UAKDzCDQAAMArhBgAAGIUBxQUUMnZdie7v2GtdS2Q/bdq0UcOGDRUdHV0i+7tZJk2apDVr1ig+Pv6GtrNkyRKNGjWKWwEAwC2MMze46Ww2m9asWePsMnIJCQnJFer69u2rw4cPO6cgAECx4MyNoTIyMrjxWxGULVtWZcuWdXYZAIAbwJkbQ7Rp00bDhw9XVFSUAgIC9OCDD0qStmzZonvvvVceHh4KCgrS2LFjlZWV5bBuVlaWhg8fLj8/P1WsWFETJkyQZVn25XmdefHz89OSJUskXQpSw4cPV1BQkDw9PRUSEqLp06dLunR2RJJ69uwpm81mn79aftuQpKSkJHXv3l3ly5eXj4+P+vTpo19++SXf12PUqFEObT169NCgQYPsy48fP67Ro0fLZrPZv5W0ZMkS+fn5Oaw3b9481apVS+7u7goLC9OyZcsclttsNr333nvq2bOnvLy8VLt2ba1du/aatQEAbi7O3Bhk6dKl+stf/qIdO3bIsiydOHFCXbp00aBBg/TBBx/oxx9/1NChQ+Xp6alJkyY5rDdkyBB988032rt3r5566inVrFlTQ4cOLdB+58yZo7Vr1+rjjz9WjRo1lJycrOTkZEnSnj17VLlyZS1evFidOnWSq6trobdhWZZ69OihcuXKacuWLcrKytIzzzyjvn37avPmzUV6rWJiYtSgQQM99dRT+R7n6tWr9dxzzyk6Olrt27fXp59+qsGDB6t69epq27atvd/kyZP1xhtvaMaMGZo7d6769++v48ePq0KFCkWqD7iVXGtMYkmNHQSuRrgxyJ133qk33njDPj9+/HgFBwfr7bffls1m01133aWTJ0/qxRdf1CuvvGJ/IGNwcLBmz54tm82msLAwfffdd5o9e3aBw01SUpJq166t++67TzabTTVr1rQvq1SpkqRLZ3qqVKlSpG1s2rRJBw4cUGJiooKDgyVJy5YtU926dbVnzx41adKk4C/S/1SoUEGurq7y9vbOt66ZM2dq0KBBeuaZZyRJUVFR+vrrrzVz5kyHcDNo0CD169dPkvS3v/1Nc+fO1e7du9WpU6dC1wYAuDFcljJI48aNHeYTEhLUvHlzhxvBtWzZUufPn9fPP/9sb2vWrJlDn+bNm+vIkSMFvivuoEGDFB8fr7CwMI0cOVIbN24sdO35bSMhIUHBwcH2YCNJERER8vPzU0JCQqH3VRgJCQlq2bKlQ1vLli1z7bd+/fr2f5crV07e3t46ffr0Ta0NAJA3wo1BypUr5zBvWVauO9xeHktTmDvf2mw2hzE40v89qkKSGjVqpMTERL366qv6448/1KdPHz3yyCOFqj2/beR1HPm1S5eepp1fzYWR12t4ddvVz32y2WzKyckp0v4AADeGcGOwiIgI7dy50+FDfufOnfL29la1atXsbV9//bXDel9//bVq165tHx9TqVIlpaSk2JcfOXJEFy9edFjHx8dHffv21bvvvqsVK1Zo1apVOnfunKRLH/wFOQt0rW1EREQoKSnJPgZHkg4ePKjU1FSFh4fnua2ra87Oztb333/v0Mfd3f26dYWHh2v79u0ObTt37rzmfgEAzseYG4M988wzio6O1ogRIzR8+HAdOnRIEydOVFRUlH28jSQlJycrKipKTz/9tPbv36+5c+dq1qxZ9uUPPPCA3n77bTVr1kw5OTl68cUXHc5UzJ49W0FBQWrYsKFcXFy0cuVKValSxf6to5CQEH3xxRdq2bKlPDw85O/vn6vW/LbRvn171a9fX/3791d0dLR9QHHr1q1zXYq7suaoqCitW7dOtWrV0uzZs3PdmC8kJERbt27Vo48+Kg8PDwUEBOTazvPPP68+ffqoUaNGateunT755BPFxMRo06ZNhXkrAAAliHBTQLfiqP9q1app/fr1ev7559WgQQNVqFBBQ4YM0YQJExz6DRw4UH/88Yfuvfdeubq6asSIEXrqqafsy2fNmqXBgwfr/vvvV9WqVfXWW29p37599uXly5fX66+/riNHjsjV1VVNmjTR+vXr7QFq1qxZioqK0rvvvqtq1arp2LFjuWq93jbWrFmjESNG6P7775eLi4s6deqkuXPnXvPY//znP+vbb7/VwIED5ebmptGjRzsMAJakKVOm6Omnn1atWrWUnp6e6zKWdOnr42+99ZZmzJihkSNHKjQ0VIsXL1abNm2u+/oDAJzDZuX1G91gaWlp8vX1VWpqqnx8fByW/fe//1ViYqJCQ0Pl6enppAqB/8PPJG4FfBUcJSG/z++rMeYGAAAYhXADAACMQrgBAABGIdwAAACjEG4AAIBRCDcAAMAohBsAAGAUwg0AADAK4QY3zGazac2aNcW6zTZt2mjUqFHFus0rhYSEKDo6+oa3c7PrBAAUHo9fKKhJviW8v9SS3d8NSElJyfN5USbZvHmz2rZtq99++83+zCxJiomJyfVEcACAcxFucMOqVKni7BKcpkKFCs4uAQBwFS5LGaJNmzYaOXKkXnjhBVWoUEFVqlTRpEmTHPokJSWpe/fuKl++vHx8fNSnTx/98ssv9uWTJk1Sw4YNtWjRItWoUUPly5fXX/7yF2VnZ+uNN95QlSpVVLlyZU2bNs1hu1deljp27JhsNptiYmLUtm1beXl5qUGDBtq1a5e9/9mzZ9WvXz9Vr15dXl5euvvuu/XRRx8V6ni//fZbtW3bVt7e3vLx8VFkZKT27t1rX75q1SrVrVtXHh4eCgkJcXjK+dUu1xwfH29v+89//iObzabNmzfr2LFj9odu+vv7y2azadCgQZJyX5b67bffNHDgQPn7+8vLy0udO3fWkSNH7MuXLFkiPz8/ff755woPD1f58uXVqVMnpaSkFOr4AQDXRrgxyNKlS1WuXDl98803euONNzRlyhTFxsZKkizLUo8ePXTu3Dlt2bJFsbGxOnr0qPr27euwjaNHj+qzzz7Thg0b9NFHH2nRokXq2rWrfv75Z23ZskWvv/66JkyYoK+//jrfWsaPH68xY8YoPj5ederUUb9+/ZSVlSXp0sMgIyMj9emnn+r777/XU089pQEDBuibb74p8LH2799f1atX1549e7Rv3z6NHTvWfnlo37596tOnjx599FF99913mjRpkl5++WUtWbKkEK/m/wkODtaqVaskSYcOHVJKSoreeuutPPsOGjRIe/fu1dq1a7Vr1y5ZlqUuXbooMzPT3ufixYuaOXOmli1bpq1btyopKUljxowpUm0AgNy4LGWQ+vXra+LEiZKk2rVr6+2339YXX3yhBx98UJs2bdKBAweUmJio4OBgSdKyZctUt25d7dmzR02aNJEk5eTkaNGiRfL29lZERITatm2rQ4cOaf369XJxcVFYWJhef/11bd68Wc2aNbtmLWPGjFHXrpeeCDx58mTVrVtXP/30k+666y5Vq1bN4cN8xIgR2rBhg1auXKmmTZsW6FiTkpL0/PPP66677rIf72Vvvvmm2rVrp5dfflmSVKdOHR08eFAzZsywn3EpDFdXV/vlp8qVKzuMubnSkSNHtHbtWu3YsUMtWrSQJH344YcKDg7WmjVr1Lt3b0lSZmam5s+fr1q1akmShg8frilTphS6LgBA3px65mb69Olq0qSJvL29VblyZfXo0UOHDh267npbtmxRZGSkPD09dccdd2j+/PklUG3pV79+fYf5oKAgnT59WpKUkJCg4OBge7CRpIiICPn5+SkhIcHeFhISIm9vb/t8YGCgIiIi5OLi4tB2ebsFqSUoKEiS7OtkZ2dr2rRpql+/vipWrKjy5ctr48aNSkpKKvCxRkVF6cknn1T79u312muv6ejRo/ZlCQkJatmypUP/li1b6siRI8rOzi7wPgorISFBbm5uDgGtYsWKCgsLc3iNvby87MFGcnyfAAA3zqnhZsuWLXr22Wf19ddfKzY2VllZWerQoYMuXLhwzXUSExPVpUsXtWrVSnFxcXrppZc0cuRI+2WD29nV39qx2WzKycmRdOmylM1my7XO1e15bSO/7Raklsvbv7zOrFmzNHv2bL3wwgv68ssvFR8fr44dOyojI+N6h2g3adIk/fDDD+ratau+/PJLRUREaPXq1dc8Vsuyrrmty8Htyj5XXkYqqGvtoyCvcX71AQAKx6mXpTZs2OAwv3jxYlWuXFn79u3T/fffn+c68+fPV40aNez3KAkPD9fevXs1c+ZM9erV62aXfMuKiIhQUlKSkpOT7WdvDh48qNTUVIWHh5doLdu2bVP37t31+OOPS7oUeo4cOVLoOurUqaM6depo9OjR6tevnxYvXqyePXsqIiJC27dvd+i7c+dO1alTR66urrm2U6lSJUmXvtJ+zz33SJLD4GJJcnd3l6R8z/xEREQoKytL33zzjf2y1NmzZ3X48OESf40B4HZWqgYUp6ZeurdLfl+v3bVrlzp06ODQ1rFjR+3duzfPv7bT09OVlpbmMN2O2rdvr/r166t///7av3+/du/erYEDB6p169Zq3LhxidZy5513KjY2Vjt37lRCQoKefvppnTp1qsDr//HHHxo+fLg2b96s48ePa8eOHdqzZ489QPz1r3/VF198oVdffVWHDx/W0qVL9fbbb19z0G7ZsmXVrFkzvfbaazp48KC2bt2qCRMmOPSpWbOmbDabPv30U/366686f/58ru3Url1b3bt319ChQ7V9+3Z9++23evzxx1WtWjV17969EK8QAOBGlJpwY1mWoqKidN9996levXrX7Hfq1CkFBgY6tAUGBiorK0tnzpzJ1X/69Ony9fW1T1eOObmdXP66tr+/v+6//361b99ed9xxh1asWFHitbz88stq1KiROnbsqDZt2qhKlSrq0aNHgdd3dXXV2bNnNXDgQNWpU0d9+vRR586dNXnyZElSo0aN9PHHH+uf//yn6tWrp1deeUVTpkzJdzDxokWLlJmZqcaNG+u5557T1KlTHZZXq1ZNkydP1tixYxUYGKjhw4fnuZ3FixcrMjJSDz30kJo3by7LsrR+/Xpu9AcAJchmlZKL/c8++6zWrVun7du3q3r16tfsV6dOHQ0ePFjjxo2zt+3YsUP33XefUlJSct1QLj09Xenp6fb5tLQ0BQcHKzU1VT4+Pg59//vf/yoxMVGhoaHy9PQspiMDio6fSdwKQsauy7P92GtdS7gSmCwtLU2+vr55fn5frVR8FXzEiBFau3attm7dmm+wkS7dDffqSxinT5+Wm5ubKlasmKu/h4eHPDw8irVeAABQejn1spRlWRo+fLhiYmL05ZdfKjQ09LrrNG/e3H5juss2btyoxo0bc+ofAAA4N9w8++yzWr58uf7xj3/I29tbp06d0qlTp/THH3/Y+4wbN04DBw60zw8bNkzHjx9XVFSUEhIStGjRIr3//vvc4RUAAEhycriZN2+eUlNT1aZNGwUFBdmnKwe5pqSkONzcLTQ0VOvXr9fmzZvVsGFDvfrqq5ozZw5fAwcAAJKcPOamIGOZ83oeUOvWrbV///6bUNElpWSMNcDPIgAUQan5KnhpcHnMzsWLF51cCXDJ5bs253XzQQBA3krFt6VKC1dXV/n5+dmf8+Pl5ZXnIwuAkpCTk6Nff/1VXl5ecnPjvyoAFBS/Ma9y+T45PMgQpYGLi4tq1KhByAaAQiDcXMVmsykoKEiVK1cu0sMTgeLk7u7u8ER2AMD1EW6uwdXVlXEOAADcgviTEAAAGIVwAwAAjEK4AQAARiHcAAAAoxBuAACAUQg3AADAKIQbAABgFMINAAAwCuEGAAAYhXADAACMQrgBAABGIdwAAACjEG4AAIBRCDcAAMAohBsAAGAUwg0AADAK4QYAABiFcAMAAIxCuAEAAEYh3AAAAKMQbgAAgFEINwAAwCiEGwAAYBTCDQAAMArhBgAAGIVwAwAAjEK4AQAARiHcAAAAoxBuAACAUQg3AADAKIQbAABgFMINAAAwCuEGAAAYhXADAACMQrgBAABGIdwAAACjEG4AAIBRCDcAAMAohBsAAGAUwg0AADAK4QYAABiFcAMAAIxCuAEAAEYh3AAAAKMQbgAAgFEINwAAwCiEGwAAYBTCDQAAMArhBgAAGIVwAwAAjEK4AQAARiHcAAAAoxBuAACAUQg3AADAKIQbAABgFMINAAAwCuEGAAAYhXADAACMQrgBAABGIdwAAACjEG4AAIBRCDcAAMAohBsAAGAUwg0AADAK4QYAABjFqeFm69at6tatm6pWrSqbzaY1a9bk23/z5s2y2Wy5ph9//LFkCgYAAKWemzN3fuHCBTVo0ECDBw9Wr169CrzeoUOH5OPjY5+vVKnSzSgPAADcgpwabjp37qzOnTsXer3KlSvLz8+v+AsCAAC3vFtyzM0999yjoKAgtWvXTl999VW+fdPT05WWluYwAQAAc91S4SYoKEgLFy7UqlWrFBMTo7CwMLVr105bt2695jrTp0+Xr6+vfQoODi7BigEAQEmzWZZlObsISbLZbFq9erV69OhRqPW6desmm82mtWvX5rk8PT1d6enp9vm0tDQFBwcrNTXVYdwOAKBoQsauy7P92GtdS7gSmCwtLU2+vr4F+vy+pc7c5KVZs2Y6cuTINZd7eHjIx8fHYQIAAOa65cNNXFycgoKCnF0GAAAoJZz6banz58/rp59+ss8nJiYqPj5eFSpUUI0aNTRu3DidOHFCH3zwgSQpOjpaISEhqlu3rjIyMrR8+XKtWrVKq1atctYhAACAUsap4Wbv3r1q27atfT4qKkqS9MQTT2jJkiVKSUlRUlKSfXlGRobGjBmjEydOqGzZsqpbt67WrVunLl26lHjtAACgdCo1A4pLSmEGJAEAro8BxSgJt9WAYgAAgCsRbgAAgFEINwAAwCiEGwAAYBTCDQAAMArhBgAAGIVwAwAAjEK4AQAARiHcAAAAoxBuAACAUQg3AADAKIQbAABgFMINAAAwCuEGAAAYhXADAACMQrgBAABGIdwAAACjEG4AAIBRCDcAAMAohBsAAGAUwg0AADAK4QYAABiFcAMAAIxCuAEAAEYh3AAAAKMQbgAAgFEINwAAwCiEGwAAYBTCDQAAMArhBgAAGKVI4Wbz5s3FXAYAAEDxKFK46dSpk2rVqqWpU6cqOTm5uGsCAAAosiKFm5MnT+q5555TTEyMQkND1bFjR3388cfKyMgo7voAAAAKpUjhpkKFCho5cqT279+vvXv3KiwsTM8++6yCgoI0cuRIffvtt8VdJwAAQIHc8IDihg0bauzYsXr22Wd14cIFLVq0SJGRkWrVqpV++OGH4qgRAACgwIocbjIzM/Wvf/1LXbp0Uc2aNfX555/r7bff1i+//KLExEQFBwerd+/exVkrAADAdbkVZaURI0boo48+kiQ9/vjjeuONN1SvXj378nLlyum1115TSEhIsRQJAABQUEUKNwcPHtTcuXPVq1cvubu759mnatWq+uqrr26oOAAAgMIq0mWpiRMnqnfv3rmCTVZWlrZu3SpJcnNzU+vWrW+8QgAAgEIoUrhp27atzp07l6s9NTVVbdu2veGiAAAAiqpI4cayLNlstlztZ8+eVbly5W64KAAAgKIq1Jibhx9+WJJks9k0aNAgeXh42JdlZ2frwIEDatGiRfFWCAAAUAiFCje+vr6SLp258fb2VtmyZe3L3N3d1axZMw0dOrR4KwQAACiEQoWbxYsXS5JCQkI0ZswYLkEBAIBSp0hfBZ84cWJx1wEAAFAsChxuGjVqpC+++EL+/v6655578hxQfNn+/fuLpTgAAIDCKnC46d69u30AcY8ePW5WPQAAADekwOHmyktRXJYCAAClVZHuc5OcnKyff/7ZPr97926NGjVKCxcuLLbCAAAAiqJI4eaxxx6zPzfq1KlTat++vXbv3q2XXnpJU6ZMKdYCAQAACqNI4eb777/XvffeK0n6+OOPdffdd2vnzp36xz/+oSVLlhRnfQAAAIVSpHCTmZlpH1y8adMm/elPf5Ik3XXXXUpJSSm+6gAAAAqpSOGmbt26mj9/vrZt26bY2Fh16tRJknTy5ElVrFixWAsEAAAojCKFm9dff10LFixQmzZt1K9fPzVo0ECStHbtWvvlKgAAAGco0h2K27RpozNnzigtLU3+/v729qeeekpeXl7FVhwAAEBhFSncSJKrq6tDsJEuPXMKAADAmYp0WeqXX37RgAEDVLVqVbm5ucnV1dVhAgAAcJYinbkZNGiQkpKS9PLLLysoKCjf50wBAACUpCKFm+3bt2vbtm1q2LBhMZcDAABwY4p0WSo4OFiWZRV3LQAAADesSOEmOjpaY8eO1bFjx4q5HAAAgBtTpMtSffv21cWLF1WrVi15eXmpTJkyDsvPnTtXLMUBAAAUVpHCTXR0dDGXAQAAUDyKFG6eeOKJ4q4DAACgWBRpzI0kHT16VBMmTFC/fv10+vRpSdKGDRv0ww8/FFtxAAAAhVWkcLNlyxbdfffd+uabbxQTE6Pz589Lkg4cOKCJEycWa4EAAACFUaRwM3bsWE2dOlWxsbFyd3e3t7dt21a7du0qtuIAAAAKq0jh5rvvvlPPnj1ztVeqVElnz5694aIAAACKqkjhxs/PTykpKbna4+LiVK1atRsuCgAAoKiKFG4ee+wxvfjiizp16pRsNptycnK0Y8cOjRkzRgMHDizuGgEAAAqsSOFm2rRpqlGjhqpVq6bz588rIiJCrVq1UosWLTRhwoTirhEAAKDAihRuypQpow8//FBHjhzRxx9/rOXLl+vQoUNatmyZXF1dC7ydrVu3qlu3bqpatapsNpvWrFlz3XW2bNmiyMhIeXp66o477tD8+fOLcggAAMBQBb6JX1RUVL7Lv/76a/u/33zzzQJt88KFC2rQoIEGDx6sXr16Xbd/YmKiunTpoqFDh2r58uXasWOHnnnmGVWqVKlA6wMAAPMVONzExcU5zO/bt0/Z2dkKCwuTJB0+fFiurq6KjIws8M47d+6szp07F7j//PnzVaNGDfvjH8LDw7V3717NnDmTcAMAACQVItx89dVX9n+/+eab8vb21tKlS+Xv7y9J+u233zR48GC1atWq+Kv8n127dqlDhw4ObR07dtT777+vzMzMXA/wlKT09HSlp6fb59PS0m5afQAAwPmKNOZm1qxZmj59uj3YSJK/v7+mTp2qWbNmFVtxVzt16pQCAwMd2gIDA5WVlaUzZ87kuc706dPl6+trn4KDg29afQAAwPmKFG7S0tL0yy+/5Go/ffq0fv/99xsuKj82m81h3rKsPNsvGzdunFJTU+1TcnLyTa0PAAA4V5GeCt6zZ08NHjxYs2bNUrNmzSRdGlD8/PPP6+GHHy7WAq9UpUoVnTp1yqHt9OnTcnNzU8WKFfNcx8PDQx4eHjetJgAAULoUKdzMnz9fY8aM0eOPP67MzMxLG3Jz05AhQzRjxoxiLfBKzZs31yeffOLQtnHjRjVu3DjP8TYAAOD2U6TLUl5eXnrnnXd09uxZxcXFaf/+/Tp37pzeeecdlStXrsDbOX/+vOLj4xUfHy/p0le94+PjlZSUJOnSJaUr73g8bNgwHT9+XFFRUUpISNCiRYv0/vvva8yYMUU5DAAAYKAinbm5rFy5cqpfv36R19+7d6/atm1rn798L50nnnhCS5YsUUpKij3oSFJoaKjWr1+v0aNH6+9//7uqVq2qOXPm8DVwAABgZ7Muj8i9TaSlpcnX11epqany8fFxdjkAcMsLGbsuz/Zjr3Ut4UpgssJ8fhfpshQAAEBpRbgBAABGIdwAAACjEG4AAIBRCDcAAMAohBsAAGAUwg0AADAK4QYAABiFcAMAAIxCuAEAAEYh3AAAAKMQbgAAgFEINwAAwCiEGwAAYBTCDQAAMArhBgAAGIVwAwAAjEK4AQAARiHcAAAAoxBuAACAUQg3AADAKIQbAABgFMINAAAwCuEGAAAYhXADAACMQrgBAABGIdwAAACjEG4AAIBRCDcAAMAohBsAAGAUwg0AADAK4QYAABiFcAMAAIxCuAEAAEYh3AAAAKMQbgAAgFEINwAAwCiEGwAAYBTCDQAAMArhBgAAGIVwAwAAjEK4AQAARiHcAAAAoxBuAACAUQg3AADAKIQbAABgFMINAAAwCuEGAAAYhXADAACMQrgBAABGIdwAAACjEG4AAIBRCDcAAMAohBsAAGAUwg0AADAK4QYAABiFcAMAAIxCuAEAAEYh3AAAAKMQbgAAgFEINwAAwCiEGwAAYBTCDQAAMArhBgAAGIVwAwAAjEK4AQAARiHcAAAAoxBuAACAUQg3AADAKIQbAABgFMINAAAwitPDzTvvvKPQ0FB5enoqMjJS27Ztu2bfzZs3y2az5Zp+/PHHEqwYAACUZk4NNytWrNCoUaM0fvx4xcXFqVWrVurcubOSkpLyXe/QoUNKSUmxT7Vr1y6higEAQGnn1HDz5ptvasiQIXryyScVHh6u6OhoBQcHa968efmuV7lyZVWpUsU+ubq6XrNvenq60tLSHCYAAGAup4WbjIwM7du3Tx06dHBo79Chg3bu3Jnvuvfcc4+CgoLUrl07ffXVV/n2nT59unx9fe1TcHDwDdcOAABKL6eFmzNnzig7O1uBgYEO7YGBgTp16lSe6wQFBWnhwoVatWqVYmJiFBYWpnbt2mnr1q3X3M+4ceOUmppqn5KTk4v1OAAAQOni5uwCbDabw7xlWbnaLgsLC1NYWJh9vnnz5kpOTtbMmTN1//3357mOh4eHPDw8iq9gAABQqjntzE1AQIBcXV1znaU5ffp0rrM5+WnWrJmOHDlS3OUBAIBblNPCjbu7uyIjIxUbG+vQHhsbqxYtWhR4O3FxcQoKCiru8gAAwC3KqZeloqKiNGDAADVu3FjNmzfXwoULlZSUpGHDhkm6NF7mxIkT+uCDDyRJ0dHRCgkJUd26dZWRkaHly5dr1apVWrVqlTMPAwAAlCJODTd9+/bV2bNnNWXKFKWkpKhevXpav369atasKUlKSUlxuOdNRkaGxowZoxMnTqhs2bKqW7eu1q1bpy5dujjrEAAAQCljsyzLcnYRJSktLU2+vr5KTU2Vj4+Ps8sBgFteyNh1ebYfe61rCVcCkxXm89vpj18AAAAoToQbAABgFMINAAAwCuEGAAAYhXADAACMQrgBAABGIdwAAACjEG4AAIBRCDcAAMAohBsAAGAUwg0AADAK4QYAABiFcAMAAIxCuAEAAEYh3AAAAKMQbgAAgFEINwAAwCiEGwAAYBTCDQAAMArhBgAAGIVwAwAAjEK4AQAARiHcAAAAoxBuAACAUQg3AADAKIQbAABgFMINAAAwCuEGAAAYxc3ZBQAAnC9k7Lo824+91rWEKwFuHGduAACAUQg3AADAKIQbAABgFMbcAIABGDMD/B/O3AAAAKMQbgAAgFEINwAAwCiEGwAAYBQGFANAKcGgYKB4cOYGAAAYhXADAACMQrgBAABGYcwNABQjxs0AzseZGwAAYBTCDQAAMAqXpQDgKlxaAm5tnLkBAABGIdwAAACjcFkKuJ1N8r1Ge2rJ1gEAxYgzNwAAwCicuYF5OBtRcm7kteZ9AnCTEG6AKznrA5cPeuSHnw+gUAg3KJ34ZY6bhZ8twHiEG1zbjX4I3G4fIrfb8ToTrzWAfBBugFsdH/Ql51Z8ra9Vs8TYKBiLcGM6fjEBpQP/F4ESQ7gBYKRrPkLBs4QLAVDiCDcAgNKHM124AYQbAIBZCEa3PcLNrYD/qABuRfzugpPw+AUAAGAUztwAAHAZZ5uMQLgBAKA4EIxKDS5LAQAAo3DmpqSQ6AEA18LjbooV4QYAgNuZgcGIcAOg1OIuwwCKgjE3AADAKIQbAABgFC5LAQCAoiml43U4cwMAAIzi9HDzzjvvKDQ0VJ6enoqMjNS2bdvy7b9lyxZFRkbK09NTd9xxh+bPn19ClQIAgFuBU8PNihUrNGrUKI0fP15xcXFq1aqVOnfurKSkpDz7JyYmqkuXLmrVqpXi4uL00ksvaeTIkVq1alUJVw4AAEorp4abN998U0OGDNGTTz6p8PBwRUdHKzg4WPPmzcuz//z581WjRg1FR0crPDxcTz75pP785z9r5syZJVw5AAAorZw2oDgjI0P79u3T2LFjHdo7dOignTt35rnOrl271KFDB4e2jh076v3331dmZqbKlCmTa5309HSlp6fb51NTLw1ySktLu9FDKJx0K+/2gtRxK67rzH2zbsmsWwL7zkm/mHcXG+ve8LrO3Hdp/rm+Fdd15r5vtO5CuPy5bVn5/ExfZjnJiRMnLEnWjh07HNqnTZtm1alTJ891ateubU2bNs2hbceOHZYk6+TJk3muM3HiREsSExMTExMTkwFTcnLydTOG078KbrPZHOYty8rVdr3+ebVfNm7cOEVFRdnnc3JydO7cOVWsWDHf/dyItLQ0BQcHKzk5WT4+PjdlH7gxvEelH+9R6cd7VPqZ9B5ZlqXff/9dVatWvW5fp4WbgIAAubq66tSpUw7tp0+fVmBgYJ7rVKlSJc/+bm5uqlixYp7reHh4yMPDw6HNz8+v6IUXgo+Pzy3/w2Q63qPSj/eo9OM9Kv1MeY98fX0L1M9pA4rd3d0VGRmp2NhYh/bY2Fi1aNEiz3WaN2+eq//GjRvVuHHjPMfbAACA249Tvy0VFRWl9957T4sWLVJCQoJGjx6tpKQkDRs2TNKlS0oDBw609x82bJiOHz+uqKgoJSQkaNGiRXr//fc1ZswYZx0CAAAoZZw65qZv3746e/aspkyZopSUFNWrV0/r169XzZo1JUkpKSkO97wJDQ3V+vXrNXr0aP39739X1apVNWfOHPXq1ctZh5AnDw8PTZw4MdflMJQevEelH+9R6cd7VPrdru+RzbIK8p0qAACAW4PTH78AAABQnAg3AADAKIQbAABgFMINAAAwCuGmBBw+fFjdu3dXQECAfHx81LJlS3311VfOLgtXWbdunZo2baqyZcsqICBADz/8sLNLwlXS09PVsGFD2Ww2xcfHO7sc/M+xY8c0ZMgQhYaGqmzZsqpVq5YmTpyojIwMZ5d2W3vnnXcUGhoqT09PRUZGatu2bc4uqcQQbkpA165dlZWVpS+//FL79u1Tw4YN9dBDD+W62zKcZ9WqVRowYIAGDx6sb7/9Vjt27NBjjz3m7LJwlRdeeKFAt15Hyfrxxx+Vk5OjBQsW6IcfftDs2bM1f/58vfTSS84u7ba1YsUKjRo1SuPHj1dcXJxatWqlzp07O9xexWR8FfwmO3PmjCpVqqStW7eqVatWkqTff/9dPj4+2rRpk9q1a+fkCpGVlaWQkBBNnjxZQ4YMcXY5uIbPPvtMUVFRWrVqlerWrau4uDg1bNjQ2WXhGmbMmKF58+bp//2//+fsUm5LTZs2VaNGjTRv3jx7W3h4uHr06KHp06c7sbKSwZmbm6xixYoKDw/XBx98oAsXLigrK0sLFixQYGCgIiMjnV0eJO3fv18nTpyQi4uL7rnnHgUFBalz58764YcfnF0a/ueXX37R0KFDtWzZMnl5eTm7HBRAamqqKlSo4OwybksZGRnat2+fOnTo4NDeoUMH7dy500lVlSzCzU1ms9kUGxuruLg4eXt7y9PTU7Nnz9aGDRtK7AGeyN/lvywnTZqkCRMm6NNPP5W/v79at26tc+fOObk6WJalQYMGadiwYWrcuLGzy0EBHD16VHPnzrU/Sgcl68yZM8rOzs71EOrAwMDbZjgE4aaIJk2aJJvNlu+0d+9eWZalZ555RpUrV9a2bdu0e/dude/eXQ899JBSUlKcfRhGK+h7lJOTI0kaP368evXqpcjISC1evFg2m00rV6508lGYq6Dvz9y5c5WWlqZx48Y5u+TbTkHfoyudPHlSnTp1Uu/evfXkk086qXJIl/64vpJlWbnaTMWYmyI6c+aMzpw5k2+fkJAQ7dixQx06dNBvv/3m8Lj52rVra8iQIRo7duzNLvW2VdD3aNeuXXrggQe0bds23XffffZlTZs2Vfv27TVt2rSbXeptqaDvz6OPPqpPPvnE4Zdydna2XF1d1b9/fy1duvRml3rbKuh75OnpKelSsGnbtq2aNm2qJUuWyMWFv5+dISMjQ15eXlq5cqV69uxpb3/uuecUHx+vLVu2OLG6kuHUB2feygICAhQQEHDdfhcvXpSkXP/JXVxc7GcMcHMU9D2KjIyUh4eHDh06ZA83mZmZOnbsmP0hrih+BX1/5syZo6lTp9rnT548qY4dO2rFihVq2rTpzSzxtlfQ90iSTpw4obZt29rPfBJsnMfd3V2RkZGKjY11CDexsbHq3r27EysrOYSbm6x58+by9/fXE088oVdeeUVly5bVu+++q8TERHXt2tXZ5UGSj4+Phg0bpokTJyo4OFg1a9bUjBkzJEm9e/d2cnWoUaOGw3z58uUlSbVq1VL16tWdURKucvLkSbVp00Y1atTQzJkz9euvv9qXValSxYmV3b6ioqI0YMAANW7cWM2bN9fChQuVlJR024yDItzcZAEBAdqwYYPGjx+vBx54QJmZmapbt67+/e9/q0GDBs4uD/8zY8YMubm5acCAAfrjjz/UtGlTffnll/L393d2aUCpt3HjRv3000/66aefcgVORj44R9++fXX27FlNmTJFKSkpqlevntavX3/bnI1mzA0AADAKF0UBAIBRCDcAAMAohBsAAGAUwg0AADAK4QYAABiFcAMAAIxCuAEAAEYh3AAAAKMQbgDky2azac2aNcXet6QcO3ZMNptN8fHxN31fS5YskZ+f303fD4D8EW4A5CslJUWdO3d2dhmlTkhIiKKjox3a+vbtq8OHDzunIAB2PFsKQJ4yMjLk7u7Ogw8LoWzZsipbtqyzywBue5y5ASBJatOmjYYPH66oqCgFBATowQcflOR4qSkjI0PDhw9XUFCQPD09FRISounTp19zm1OmTFFgYGC+l4Q++eQTRUZGytPTU3fccYcmT56srKwsSVK/fv306KOPOvTPzMxUQECAFi9eLEnasGGD7rvvPvn5+alixYp66KGHdPTo0WvuL69LR2vWrJHNZrPPHz16VN27d1dgYKDKly+vJk2aaNOmTQ6v1fHjxzV69GjZbDb7unlte968eapVq5bc3d0VFhamZcuWOSy32Wx677331LNnT3l5eal27dpau3btNesHcH2EGwB2S5culZubm3bs2KEFCxbkWj5nzhytXbtWH3/8sQ4dOqTly5crJCQkVz/LsvTcc8/p/fff1/bt29WwYcM89/f555/r8ccf18iRI3Xw4EEtWLBAS5Ys0bRp0yRJ/fv319q1a3X+/HmHdS5cuKBevXpJki5cuKCoqCjt2bNHX3zxhVxcXNSzZ0/l5OQU+XU4f/68unTpok2bNikuLk4dO3ZUt27dlJSUJEmKiYlR9erV7U9cTklJyXM7q1ev1nPPPae//vWv+v777/X0009r8ODB+uqrrxz6TZ48WX369NGBAwfUpUsX9e/fX+fOnSty/cBtzwIAy7Jat25tNWzYMFe7JGv16tWWZVnWiBEjrAceeMDKycnJcxuSrJUrV1qPP/64ddddd1nJycn57rNVq1bW3/72N4e2ZcuWWUFBQZZlWVZGRoYVEBBgffDBB/bl/fr1s3r37n3NbZ4+fdqSZH333XeWZVlWYmKiJcmKi4uzLMuyFi9ebPn6+jqss3r1aut6vw4jIiKsuXPn2udr1qxpzZ4926HP1dtu0aKFNXToUIc+vXv3trp06WKfl2RNmDDBPn/+/HnLZrNZn332Wb71ALg2ztwAsGvcuHG+ywcNGqT4+HiFhYVp5MiR2rhxY64+o0eP1q5du7Rt2zZVr1493+3t27dPU6ZMUfny5e3T0KFDlZKSoosXL6pMmTLq3bu3PvzwQ0mXztL8+9//Vv/+/e3bOHr0qB577DHdcccd8vHxUWhoqCTZz7IUxYULF/TCCy8oIiJCfn5+Kl++vH788cdCbzMhIUEtW7Z0aGvZsqUSEhIc2urXr2//d7ly5eTt7a3Tp08XuX7gdseAYgB25cqVy3d5o0aNlJiYqM8++0ybNm1Snz591L59e/3rX/+y93nwwQf10Ucf6fPPP3cIIXnJycnR5MmT9fDDD+da5unpKenSpanWrVvr9OnTio2Nlaenp8O3t7p166bg4GC9++67qlq1qnJyclSvXj1lZGTkuU8XFxdZluXQlpmZ6TD//PPP6/PPP9fMmTN15513qmzZsnrkkUeuuc38XDmWR7p0ye7qtjJlyuRa50YuqwG3O8INgELx8fFR37591bdvXz3yyCPq1KmTzp07pwoVKkiS/vSnP6lbt2567LHH5OrqmmtA8JUaNWqkQ4cO6c4777xmnxYtWig4OFgrVqzQZ599pt69e8vd3V2SdPbsWSUkJGjBggVq1aqVJGn79u351l+pUiX9/vvvunDhgj3MXT3gedu2bRo0aJB69uwp6dIYnGPHjjn0cXd3V3Z2dr77Cg8P1/bt2zVw4EB7286dOxUeHp7vegBuDOEGQIHNnj1bQUFBatiwoVxcXLRy5UpVqVIl1zeEevbsqWXLlmnAgAFyc3PTI488kuf2XnnlFT300EMKDg5W79695eLiogMHDui7777T1KlTJV06i/HYY49p/vz5Onz4sMNgXH9/f1WsWFELFy5UUFCQkpKSNHbs2HyPoWnTpvLy8tJLL72kESNGaPfu3VqyZIlDnzvvvFMxMTHq1q2bbDabXn755VxnUkJCQrR161Y9+uij8vDwUEBAQK59Pf/88+rTp48aNWqkdu3a6ZNPPlFMTIzDN68AFD/G3AAosPLly+v1119X48aN1aRJEx07dkzr16+Xi0vuXyWPPPKIli5dqgEDBigmJibP7XXs2FGffvqpYmNj1aRJEzVr1kxvvvmmatas6dCvf//+OnjwoKpVq+YwhsXFxUX//Oc/tW/fPtWrV0+jR4/WjBkz8j2GChUqaPny5Vq/fr3uvvtuffTRR5o0aZJDn9mzZ8vf318tWrRQt27d1LFjRzVq1Mihz5QpU3Ts2DHVqlVLlSpVynNfPXr00FtvvaUZM2aobt26WrBggRYvXqw2bdrkWyOAG2Ozrr74DAAAcAvjzA0AADAK4QYAABiFcAMAAIxCuAEAAEYh3AAAAKMQbgAAgFEINwAAwCiEGwAAYBTCDQAAMArhBgAAGIVwAwAAjPL/AejXq4iapY55AAAAAElFTkSuQmCC",
      "text/plain": [
       "<Figure size 640x480 with 1 Axes>"
      ]
     },
     "metadata": {},
     "output_type": "display_data"
    }
   ],
   "source": [
    "data1 = {'robust solution':risk_rob, 'nominal solution': risk_nonrob}\n",
    "dt1 = pd.DataFrame(data = data1)\n",
    "plt.hist(dt1,density = True, bins = 30)\n",
    "plt.xlabel('risk evaluation')\n",
    "plt.ylabel('density')\n",
    "plt.legend(dt1.columns)"
   ]
  }
 ],
 "metadata": {
  "kernelspec": {
   "display_name": "Python 3 (ipykernel)",
   "language": "python",
   "name": "python3"
  },
  "language_info": {
   "codemirror_mode": {
    "name": "ipython",
    "version": 3
   },
   "file_extension": ".py",
   "mimetype": "text/x-python",
   "name": "python",
   "nbconvert_exporter": "python",
   "pygments_lexer": "ipython3",
   "version": "3.11.4"
  }
 },
 "nbformat": 4,
 "nbformat_minor": 5
}
