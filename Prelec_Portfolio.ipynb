{
 "cells": [
  {
   "cell_type": "code",
   "execution_count": 2,
   "id": "49f1706c",
   "metadata": {},
   "outputs": [],
   "source": [
    "import numpy as np\n",
    "import cvxpy as cp\n",
    "import gurobipy as gp\n",
    "import pandas as pd\n",
    "import mosek\n",
    "import matplotlib.pyplot as plt\n",
    "import phi_divergence as phi\n",
    "from scipy.optimize import fsolve\n",
    "import scipy.stats\n",
    "from itertools import chain, combinations\n",
    "import time\n",
    "from datetime import datetime as dt\n",
    "import scipy.stats\n"
   ]
  },
  {
   "cell_type": "code",
   "execution_count": 3,
   "id": "6f7b7c75",
   "metadata": {},
   "outputs": [],
   "source": [
    "def generate_data_mohajerin2018(N, k):   ##### Code for generating portfolio return data's\n",
    "    np.random.seed(1)\n",
    "    sys_risk_mean = 0\n",
    "    sys_risk_stdev = 0.02\n",
    "    unsys_risk_mean = np.fromiter(((i * 0.03) for i in range(1,k+1)), float)\n",
    "    unsys_risk_stdev = np.fromiter(( i * 0.025 for i in range(1,k+1)), float)\n",
    "    data = np.empty([N,k])\n",
    "    for n in range(0, N):\n",
    "        sys_return = np.random.normal(sys_risk_mean, sys_risk_stdev)\n",
    "        for i in range(0, k):\n",
    "            unsys_return = np.random.normal(unsys_risk_mean[i], unsys_risk_stdev[i])\n",
    "            data[n, i] = sys_return + unsys_return\n",
    "    return data "
   ]
  },
  {
   "cell_type": "code",
   "execution_count": 4,
   "id": "617a90f6",
   "metadata": {},
   "outputs": [],
   "source": [
    "def Prelec(x,a,b):\n",
    "    if x == 0:\n",
    "        return(0)\n",
    "    else:\n",
    "        return((np.exp(-(-np.log(x))**a))**b)\n"
   ]
  },
  {
   "cell_type": "code",
   "execution_count": 8,
   "id": "4a95fbbb",
   "metadata": {},
   "outputs": [],
   "source": [
    "def make_slope_ic(x_d, y_d):       ##### piecewise-linear construction of slopes and intercepts given (x,y) support points\n",
    "    slope = np.zeros(len(x_d)-1)\n",
    "    for i in range(1,len(slope)+1):\n",
    "        slope[i-1] = (y_d[i]-y_d[i-1])/(x_d[i]-x_d[i-1])\n",
    "    i0 = np.where(np.diff(slope)>=0)[0][0]\n",
    "    x_d1 = x_d[0:(i0)+2]\n",
    "    y1 = y_d[0:(i0)+2]\n",
    "    x_d2 = np.sort(1-x_d[(i0)+1: len(x_d)])\n",
    "    y2 = np.sort(1-y_d[(i0)+1: len(y_d)])\n",
    "    slope1 = slope[0:i0]\n",
    "    slope2 = -np.sort(-slope[i0:len(slope)])\n",
    "    ic1 = np.zeros(len(slope1))\n",
    "    ic2 = np.zeros(len(slope2))\n",
    "    for i in range(1,len(slope1)+1):\n",
    "        ic1[i-1] = y1[i-1] - slope1[i-1]*x_d1[i-1]\n",
    "\n",
    "    for i in range(1,len(slope2)+1):\n",
    "        ic2[i-1] = y2[i-1] - slope2[i-1]*x_d2[i-1]\n",
    "    h_po = y1[len(y1)-1]\n",
    "    h_hat = y2[len(y2)-1]\n",
    "    return(slope1, ic1, slope2,ic2,h_po, h_hat,slope)\n",
    "    \n",
    "    "
   ]
  },
  {
   "cell_type": "code",
   "execution_count": 6,
   "id": "9ee8bf3f",
   "metadata": {},
   "outputs": [],
   "source": [
    "def S_distortion_opt(R,prob,slope1,ic1,slope2,ic2,h_po,h_hat):\n",
    "    md = gp.Model(\"S_distortion\")\n",
    "    m = len(R)\n",
    "    n_a = len(R[0])\n",
    "    K1 = len(slope1)\n",
    "    K2 = len(slope2)\n",
    "    n_it = len(prob)\n",
    "    beta = md.addVar(-gp.GRB.INFINITY)\n",
    "    a = md.addVars(n_a)\n",
    "    qb = md.addVars(m) \n",
    "    nu = md.addVars(K1)\n",
    "    lbda = md.addVars(m, K1)\n",
    "    t_ik = md.addVars(m, K2)\n",
    "    md.addConstr(gp.quicksum(qb[i] for i in range(m)) == h_hat)\n",
    "    md.addConstr(gp.quicksum(a[i] for i in range(n_a)) == 1)\n",
    "    md.addConstrs((lbda[i,k] <= nu[k] for k in range(K1) for i in range(m)))\n",
    "    md.addConstrs(gp.quicksum(-R[i,j]* a[j] for j in range(n_a))-1 -\\\n",
    "                      beta - gp.quicksum(lbda[i,k] for k in range(K1)) <= 0 for i in range(m))\n",
    "    obj1 = beta*h_po + gp.quicksum(nu[k]*ic1[k] for k in range(K1)) + gp.quicksum(lbda[i,k]*prob[i]*slope1[k]\\\n",
    "                                            for k in range(K1) for i in range(m))\n",
    "    md.addConstrs((qb[i] <= slope2[k]*prob[i] + t_ik[i,k] for k in range(K2) for i in range(m)))\n",
    "    md.addConstrs(gp.quicksum(t_ik[i,k] for i in range(m)) <= ic2[k] for k in range(K2))\n",
    "    md.setObjective(obj1 + gp.quicksum(-qb[i]*a[j]*R[i,j] for j in range(n_a) for i in range(m))-h_hat, gp.GRB.MINIMIZE)\n",
    "    md.params.NonConvex = 2\n",
    "    md.params.OutputFlag = 0\n",
    "    md.optimize()\n",
    "    a_val = md.getAttr(\"X\", a)\n",
    "    return(md.objVal, np.array(a_val.values()), md.MIPGap*np.abs(md.objVal))"
   ]
  },
  {
   "cell_type": "code",
   "execution_count": 15,
   "id": "6dbfa8e7",
   "metadata": {},
   "outputs": [],
   "source": [
    "def S_dist_iterate(R,prob,slope1,ic1,slope2,ic2,h_po, h_hat):   #### Code for solving nominal portfolio optimization\n",
    "    md = gp.Model(\"S_distortion\")\n",
    "    m = len(R)\n",
    "    n_a = len(R[0])\n",
    "    K1 = len(slope1)\n",
    "    K2 = len(slope2)\n",
    "    n_it = len(prob)\n",
    "    u = md.addVars(n_it, lb = -gp.GRB.INFINITY)\n",
    "    t_max = md.addVar(-gp.GRB.INFINITY)\n",
    "    beta = [md.addVar(-gp.GRB.INFINITY) for i in range(n_it)]\n",
    "    a = md.addVars(n_a)\n",
    "    qb = [md.addVars(m) for i in range(n_it)] \n",
    "    nu = [md.addVars(K1) for i in range(n_it)]\n",
    "    lbda = [md.addVars(m, K1) for i in range(n_it)]\n",
    "    t_ik = [md.addVars(m, K2) for i in range(n_it)]\n",
    "    for it in range(n_it):\n",
    "        md.addConstr(gp.quicksum(qb[it][i] for i in range(m)) == h_hat)\n",
    "        md.addConstr(gp.quicksum(a[i] for i in range(n_a)) == 1)\n",
    "        md.addConstrs((lbda[it][i,k] <= nu[it][k] for k in range(K1) for i in range(m)))\n",
    "        md.addConstrs(gp.quicksum(-R[i,j]* a[j] for j in range(n_a))-1 -\\\n",
    "                          beta[it] - gp.quicksum(lbda[it][i,k] for k in range(K1)) <= 0 for i in range(m))\n",
    "        md.addConstr(beta[it]*h_po + gp.quicksum(nu[it][k]*ic1[k] for k in range(K1)) +\\\n",
    "                                         gp.quicksum(lbda[it][i,k]*prob[it][i]*slope1[k]\\\n",
    "                                                for k in range(K1) for i in range(m) if prob[it][i] >= 1e-11) <= u[it])\n",
    "        for i in range(m):\n",
    "            if prob[it][i]>= 1e-11:\n",
    "                md.addConstrs((qb[it][i] <= slope2[k]*prob[it][i] + t_ik[it][i,k] for k in range(K2)))\n",
    "            else:\n",
    "                md.addConstrs((qb[it][i] <= t_ik[it][i,k] for k in range(K2)))\n",
    "        md.addConstrs(gp.quicksum(t_ik[it][i,k] for i in range(m)) <= ic2[k] for k in range(K2))\n",
    "        md.addConstr(u[it] + gp.quicksum(-qb[it][i]*a[j]*R[i,j] for j in range(n_a) for i in range(m))-h_hat <= t_max)\n",
    "    md.setObjective(t_max, gp.GRB.MINIMIZE)\n",
    "    md.params.NonConvex = 2\n",
    "    md.params.OutputFlag = 0\n",
    "    md.optimize()\n",
    "    a_val = md.getAttr(\"X\", a)\n",
    "    u_val = md.getAttr(\"X\", u)\n",
    "    \n",
    "    return(md.objVal, np.array(a_val.values()), md.MIPGap*np.abs(md.objVal))"
   ]
  },
  {
   "cell_type": "code",
   "execution_count": 14,
   "id": "522d976a",
   "metadata": {},
   "outputs": [],
   "source": [
    "def Robustness_S_dist(R,a,r,p,domain,value):   #### Code for calculating robust evaluation of a single solution\n",
    "    md = gp.Model(\"WCrob\")\n",
    "    m = len(p)\n",
    "    N = len(domain)\n",
    "    q = md.addVars(m)\n",
    "    z = md.addVars(m)\n",
    "    lambda_var = md.addVars(m, N)\n",
    "    ind = np.argsort(-R.dot(a))\n",
    "    x = -np.sort(-R.dot(a))\n",
    "    dx = np.diff(-x)\n",
    "    ind2 = np.argsort(ind)\n",
    "    md.addConstr(gp.quicksum(q[i] for i in range(m)) == 1)\n",
    "    #s1 = md.addVars(m)                                        ##### These codes can be used when using phi(t)=|t-1|\n",
    "    #s2 = md.addVars(m, lb = -gp.GRB.INFINITY)\n",
    "    #md.addConstr(gp.quicksum(s1[i] for i in range(m)) <= r)\n",
    "    #md.addConstrs(s1[i] == gp.abs_(s2[i]) for i in range(m))\n",
    "    #md.addConstrs(s2[i] == p[i]-q[i] for i in range(m))\n",
    "    md.addConstr(gp.quicksum(1/p[i]*(q[i] - p[i]) ** 2 for i in range(m)) <= r)\n",
    "    for i in range(m):\n",
    "        sos2_indices = list(range(N))\n",
    "        md.addSOS(gp.GRB.SOS_TYPE2, [lambda_var[i, j] for j in sos2_indices])\n",
    "        md.addConstr(gp.quicksum(lambda_var[i,j] for j in sos2_indices) == 1)\n",
    "        if i > 0:\n",
    "            md.addConstr(gp.quicksum(lambda_var[i,j] * domain[j] for j in sos2_indices)== gp.quicksum(q[k] for k in range(i,m)))\n",
    "            md.addConstr(z[i] == gp.quicksum(lambda_var[i,j] * value[j] for j in sos2_indices))\n",
    "    dx2 = np.concatenate(([0],dx))\n",
    "    objective_expr = -x[0] + gp.quicksum(z[i] * dx2[i] for i in range(1,m))\n",
    "    md.setObjective(objective_expr, gp.GRB.MAXIMIZE)\n",
    "    md.params.OutputFlag = 0\n",
    "    md.optimize()\n",
    "    obj_pw = md.objVal\n",
    "    q_val = md.getAttr(\"X\", q)\n",
    "    q_val = np.array(q_val.values())\n",
    "    return(obj_pw-1, q_val[ind2])\n",
    "\n",
    "\n",
    "def Robustness_S_dist2(R,a,r,p,slope1,ic1,slope2,ic2):   ##### A different way to calculate worst-case risk not using SOS2\n",
    "    md = gp.Model(\"WCrob2\")\n",
    "    m = len(p)\n",
    "    q = md.addVars(m)\n",
    "    s1 = md.addVars(m)\n",
    "    s2 = md.addVars(m, lb = -gp.GRB.INFINITY)\n",
    "    md.addConstr(gp.quicksum(q[i] for i in range(m)) == 1)\n",
    "    md.addConstr(gp.quicksum(s1[i] for i in range(m)) <= r)\n",
    "    md.addConstrs(s1[i] == gp.abs_(s2[i]) for i in range(m))\n",
    "    md.addConstrs(s2[i] == p[i]-q[i] for i in range(m))\n",
    "    K1 = len(slope1)\n",
    "    K2 = len(slope2)\n",
    "    h_po = S_func(1/e, alfa)\n",
    "    h_hat = S_func_dual(1-1/e,alfa)\n",
    "    beta = md.addVar(-gp.GRB.INFINITY)\n",
    "    qb = md.addVars(m) \n",
    "    nu = md.addVars(K2)\n",
    "    lbda = md.addVars(m, K2)\n",
    "    t_ik = md.addVars(m, K1)\n",
    "    md.addConstr(gp.quicksum(qb[i] for i in range(m)) == h_po)\n",
    "    md.addConstrs((lbda[i,k] <= nu[k] for k in range(K2) for i in range(m)))\n",
    "    md.addConstrs((R.dot(a))[i]- beta - gp.quicksum(lbda[i,k] for k in range(K2)) <= 0 for i in range(m))\n",
    "    obj1 = -beta*h_hat - gp.quicksum(nu[k]*ic2[k] for k in range(K2)) - gp.quicksum(lbda[i,k]*q[i]*slope2[k]\\\n",
    "                                            for k in range(K2) for i in range(m))\n",
    "    md.addConstrs((qb[i] <= slope1[k]*q[i] + t_ik[i,k] for k in range(K1) for i in range(m)))\n",
    "    md.addConstrs(gp.quicksum(t_ik[i,k] for i in range(m)) <= ic1[k] for k in range(K1))\n",
    "    md.setObjective(obj1 + gp.quicksum(-qb[i]*(R.dot(a))[i] for i in range(m)), gp.GRB.MAXIMIZE)\n",
    "    md.params.NonConvex = 2\n",
    "    md.optimize()\n",
    "    q_val = md.getAttr(\"X\", q)\n",
    "    return(md.objVal, q_val)\n",
    "    \n",
    "\n"
   ]
  },
  {
   "cell_type": "code",
   "execution_count": 16,
   "id": "71b82de9",
   "metadata": {},
   "outputs": [],
   "source": [
    "def cutting_plane_Sdist(R,p,r,eps,slope1,ic1,slope2,ic2,h_po, h_hat, domain,value,it):   #### Code solving robust portfolio\n",
    "    gap = np.inf\n",
    "    prob = [p]\n",
    "    i = 0\n",
    "    while gap > eps and i<= it:\n",
    "        [obj,a_s,mip_gap] = S_dist_iterate(R,prob,slope1,ic1,slope2,ic2,h_po, h_hat)\n",
    "        print('lb:',obj, 'lb_precision:',mip_gap)\n",
    "        [wc, q_wc] = Robustness_S_dist(R,a_s,r,p,domain,value)\n",
    "        print('ub:',wc, 'iter:', i)#, 'run time wc:',t21-t11)\n",
    "        gap = wc - obj\n",
    "        prob.append(q_wc)\n",
    "        i = i + 1\n",
    "    return('sol:',a_s, 'lb:',obj, 'ub:', obj + gap)"
   ]
  },
  {
   "cell_type": "code",
   "execution_count": 13,
   "id": "a69c63e3",
   "metadata": {},
   "outputs": [
    {
     "name": "stderr",
     "output_type": "stream",
     "text": [
      "The PostScript backend does not support transparency; partially transparent artists will be rendered opaque.\n"
     ]
    },
    {
     "data": {
      "image/png": "[encoded data removed]",
      "text/plain": [
       "<Figure size 640x480 with 1 Axes>"
      ]
     },
     "metadata": {},
     "output_type": "display_data"
    }
   ],
   "source": [
    "delta = 0.05\n",
    "x_d = np.concatenate((np.arange(0,0.05,0.05/6),np.arange(0.05,0.95,(0.95-0.05)/4), np.arange(0.95,1,0.05/5)))\n",
    "y_d = np.zeros(len(x_d))\n",
    "y_d2 = np.zeros(len(x_d))\n",
    "y_d3 = np.zeros(len(x_d))\n",
    "for i in range(len(x_d)):\n",
    "    y_d[i] = Prelec(x_d[i],0.65,0.3)\n",
    "    y_d2[i] = Prelec(x_d[i],0.65,0.6)\n",
    "    y_d3[i] = Prelec(x_d[i],0.65,1.04)\n",
    "plt.plot(x_d,y_d, color = 'red', label = r'$ \\beta = 0.3$', linestyle = '--')\n",
    "plt.plot(x_d,y_d2, color = 'blue', label = r'$ \\beta = 0.6$',linestyle = '--')\n",
    "plt.plot(x_d,y_d3, color = 'black', label = r'$ \\beta = 1.04$')\n",
    "\n",
    "plt.legend()\n",
    "plt.savefig('Prelecs.eps', format = 'eps')"
   ]
  },
  {
   "cell_type": "code",
   "execution_count": 18,
   "id": "2c31e189",
   "metadata": {},
   "outputs": [],
   "source": [
    "[slope1, ic1, slope2,ic2,h_po, h_hat,slope] = make_slope_ic(x_d, y_d3)  #### gather the slopes and intercepts of PL-approx"
   ]
  },
  {
   "cell_type": "code",
   "execution_count": 19,
   "id": "424c275f",
   "metadata": {},
   "outputs": [],
   "source": [
    "np.random.seed(1)\n",
    "R = generate_data_mohajerin2018(50, 5)\n",
    "m = len(R)\n",
    "p = np.zeros(m)+1/m\n",
    "prob = p\n",
    "r = 1/(m)*scipy.stats.chi2.ppf(0.95, m-1)  "
   ]
  },
  {
   "cell_type": "code",
   "execution_count": null,
   "id": "3b97eb37",
   "metadata": {},
   "outputs": [],
   "source": [
    "t1 = time.time()\n",
    "res = S_distortion_opt(R,p,slope1,ic1,slope2,ic2,h_po,h_hat)   #### Running this code requires Gurobi License\n",
    "t2 = time.time()\n",
    "print('obj:', res[0], 'sol:', res[1], 'precision:', res[2])\n",
    "print('time:',t2-t1)"
   ]
  },
  {
   "cell_type": "code",
   "execution_count": null,
   "id": "fbbc1b28",
   "metadata": {},
   "outputs": [],
   "source": [
    "eps = 0.001                         ##### Code for running the robust problem for Prelec parameter with beta = 0.6\n",
    "it = 30\n",
    "t_b = time.time()\n",
    "print(cutting_plane_Sdist(R,p,r,eps,slope1,ic1,slope2,ic2,h_po, h_hat, x_d,y_d2,it))\n",
    "t_e = time.time()\n",
    "print(t_e-t_b)"
   ]
  },
  {
   "cell_type": "code",
   "execution_count": null,
   "id": "dcd9d8c0",
   "metadata": {},
   "outputs": [],
   "source": [
    "eps = 0.001                       ##### Code for running the robust problem for Prelec parameter with beta = 1.04\n",
    "it = 30\n",
    "t_b = time.time()\n",
    "print(cutting_plane_Sdist(R,p,r,eps,slope1,ic1,slope2,ic2,h_po, h_hat, x_d,y_d3,it))\n",
    "t_e = time.time()\n",
    "print(t_e-t_b)"
   ]
  },
  {
   "cell_type": "code",
   "execution_count": null,
   "id": "ef3d1046",
   "metadata": {},
   "outputs": [],
   "source": [
    "eps = 0.001                     ##### Code for running the robust problem for Prelec parameter with beta = 0.3\n",
    "it = 30\n",
    "t_b = time.time()\n",
    "print(cutting_plane_Sdist(R,p,r,eps,slope1,ic1,slope2,ic2,h_po, h_hat, x_d,y_d,it))\n",
    "t_e = time.time()\n",
    "print(t_e-t_b)"
   ]
  }
 ],
 "metadata": {
  "kernelspec": {
   "display_name": "Python 3 (ipykernel)",
   "language": "python",
   "name": "python3"
  },
  "language_info": {
   "codemirror_mode": {
    "name": "ipython",
    "version": 3
   },
   "file_extension": ".py",
   "mimetype": "text/x-python",
   "name": "python",
   "nbconvert_exporter": "python",
   "pygments_lexer": "ipython3",
   "version": "3.11.4"
  }
 },
 "nbformat": 4,
 "nbformat_minor": 5
}
