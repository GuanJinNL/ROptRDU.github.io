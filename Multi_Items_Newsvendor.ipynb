{
 "cells": [
  {
   "cell_type": "markdown",
   "id": "874e9933",
   "metadata": {},
   "source": [
    "As an extension of the single-item newsvendor problem, we study the multi-item problem where multiple items have their own uncertain demand. Let $d^{(j)}_{i}$ be the $i$-th realization of the $j$-th item's demand, where $i=1,2,3$. \n",
    "We assume that the demand takes on the same possible values for all items, i.e., $d^{(j)}_{i}\\in \\{4,8,10\\}$ for all $j$. \n",
    "We take $j=1,2,3$ and consider the sum of the individual profit functions\n",
    "\\begin{align}\n",
    "    r_{\\mathrm{tot}}(\\mathbf{d},\\mathbf{y})=r_1(d^{(1)},y_1)+r_2(d^{(2)},y_2)+r_3(d^{(3)},y_3),\n",
    "\\end{align}\n",
    "where\n",
    "\\begin{align}\n",
    "     r_j(d^{(j)},y_j)&=v_j\\min\\{d^{(j)},y_j\\}+s_j(y_j-d^{(j)})_+-l_j(d^{(j)}-y_j)_+-c_jy_j,\n",
    "\\end{align}\n",
    "with $v_j,s_j,l_j,c_j$ the parameters corresponding to item $j$. Since each realization of $d^{(j)}$ contributes to a possible realization of $r_{\\mathrm{tot}}(\\mathbf{y},\\mathbf{d})$, there are in total $N=3^3=27$ possible realizations. The worst case risk evaluation minimization problem with Kullback-Leibler divergence and the CVaR distortion risk measure is formulated as\n",
    "\\begin{align}\n",
    "\\begin{split}\n",
    "    \\min_{0\\leq y\\leq 10, t\\in \\mathbb{R}}\\left\{t~\middle |~\n",
    "        \\sup_{(\\mathbf{q},\\mathbf{\\bar{q}})\\in \\mathcal{U}_{\\phi_{kl},h_{cv}}}-\\sum^{27}_{k=1}\\bar{q}_kr_{\\mathrm{tot},k}(\\mathbf{y},\\mathbf{d})\\leq t\\right\}.\n",
    "\\end{split}\n",
    "\\end{align}\n",
    "Here, $\\mathbf{p}\\in \\mathbb{R}^{27}$ and is determined by considering the probability of each combination of realizations of $(d^{(1)},d^{(2)},d^{(3)})$, which is the product of the probabilities $\\mathbf{p}^{(1)},\\mathbf{p}^{(2)},\\mathbf{p}^{(3)}$ of each individual realization. \n",
    "The parameters we used are given in the following table.\n",
    "\n",
    "\n",
    "$\\mathrm{Item}(j)$ |1 |2|3|\n",
    "-----|-----|-----|-----\n",
    "$c$|4|5|4\n",
    "$v$|6|8|5\n",
    "$s$|2|2.5|1.5\n",
    "$l$|4|3|4\n",
    "\n",
    "Furthermore, the demand of each item $j$ has state probabilities \n",
    "\\begin{align*}\n",
    "\\mathbf{p}^{(1)}=(0.375,0.375,0.25),~\\mathbf{p}^{(2)}=(0.25, 0.25,0.5),~\\mathbf{p}^{(3)}=(0.127,0.786,0.087).\n",
    "\\end{align*}\n",
    "The nominal problem is the following problem with respect to only the nominal probability vector $\\mathbf{p}$\n",
    "\\begin{align}\n",
    "\\begin{split}\n",
    "    \\min_{0\\leq y\\leq 10, t\\in \\mathbb{R}}\\{t|\n",
    "        &\\sup_{\\mathbf{\\bar{q}}\\in M_{h_{cv}}(\\mathbf{p})}-\\sum^{27}_{k=1}\\bar{q}_kr_{\\mathrm{tot},k}(\\mathbf{y},\\mathbf{d})\\leq t\\}.\n",
    "\\end{split}\n",
    "\\end{align}"
   ]
  },
  {
   "cell_type": "code",
   "execution_count": 2,
   "id": "0581c04b",
   "metadata": {},
   "outputs": [],
   "source": [
    "import numpy as np\n",
    "import pandas as pd\n",
    "import cvxpy as cp\n",
    "import mosek\n",
    "import matplotlib.pyplot as plt\n",
    "import scipy.stats\n",
    "from scipy.stats import rankdata\n",
    "import distortion_function as hf\n",
    "import phi_divergence as phi\n",
    "import Hit_and_Run as hr\n",
    "import itertools as itertools"
   ]
  },
  {
   "cell_type": "markdown",
   "id": "5e628a8b",
   "metadata": {},
   "source": [
    "Defining the parameter values"
   ]
  },
  {
   "cell_type": "code",
   "execution_count": 16,
   "id": "da01ba08",
   "metadata": {},
   "outputs": [],
   "source": [
    "d = np.array([4,8,10])\n",
    "p_items = np.array([[0.375,0.375,0.25],[0.25,0.25,0.5],[0.127,0.786,0.087]])\n",
    "par_mnews = np.array([[6,4,2,4],[8,3,5,2.5],[5,4,1.5,4]])\n",
    "m = len(d)**len(p_items)\n",
    "### parameter for the distortion function, in the case of h_cv, this is the alpha_0 value\n",
    "par = 0.9 \n",
    "### second derivative phi'' of phi function evaluated at 1\n",
    "phi_dot = 1 \n",
    "\n",
    "## Defining the probability vector of all 27 events.\n",
    "indices = np.asarray(list((itertools.product((0, 1, 2), repeat = 3))))    \n",
    "p = np.zeros(m)                                                              \n",
    "for i in range(m):\n",
    "    p[i] = np.prod(p_items[np.arange(len(p_items)),indices[i]])"
   ]
  },
  {
   "cell_type": "markdown",
   "id": "7238af18",
   "metadata": {},
   "source": [
    "Defining the phi function and the distortion function. Since the distortion function $h_{cv}(p)=\\min\\{\\frac{p}{1-\\alpha_0},1\\}$ is a piecewise-linear function, we can solve both the robust problem and the nominal problem using the piecewise linear methode, which does not require any information of the conjugate of $h$. The following code solves both the robust and the nominal problem."
   ]
  },
  {
   "cell_type": "code",
   "execution_count": 4,
   "id": "9ca5fe11",
   "metadata": {},
   "outputs": [],
   "source": [
    "phi_conj = phi.kb_conj\n",
    "phi_func = phi.kb_cut\n",
    "\n",
    "### Defining the h function. Note that since h is piecewise linear, h_conj is not needed.\n",
    "h_func = hf.h_cvar_cut   "
   ]
  },
  {
   "cell_type": "code",
   "execution_count": 5,
   "id": "6c737d16",
   "metadata": {},
   "outputs": [],
   "source": [
    "def r_obj(d,y,par_news):\n",
    "    [v_news, l_news, s_news, c_news] = par_news\n",
    "    return((s_news-v_news)*cp.pos(y-d)-l_news*cp.pos(d-y)+(v_news-c_news)*y)\n",
    "\n",
    "def mnews_affine_riskmin(p,d,r,indices,par_mnews,phi_conj,slope,const):\n",
    "    N = len(p)\n",
    "    I = len(par_mnews)\n",
    "    K = len(slope)\n",
    "    lbda = cp.Variable((N,K), nonneg = True)\n",
    "    y = cp.Variable(I, nonneg = True)\n",
    "    v = cp.Variable(K, nonneg = True)\n",
    "    alpha = cp.Variable(1)\n",
    "    beta = cp.Variable(1)\n",
    "    gamma = cp.Variable(1,nonneg = True)\n",
    "    t = cp.Variable(N)\n",
    "    s = cp.Variable(N)\n",
    "    c = cp.Variable(1)\n",
    "    w = cp.Variable(N)\n",
    "    constraints = [y<= np.max(d)]\n",
    "    for i in range(N):\n",
    "        r_profit = 0\n",
    "        for j in range(I):\n",
    "            r_profit = r_profit + r_obj(d[indices[i][j]],y[j],par_mnews[j])\n",
    "        if i == 0:\n",
    "            profit = r_profit\n",
    "        else:\n",
    "            profit = cp.hstack((profit, r_profit))\n",
    "    for i in range(N):\n",
    "        constraints.append(-profit[i] - cp.sum(lbda[i]) - beta <= 0)\n",
    "        constraints.append(s[i] == -alpha + lbda[i]@slope)\n",
    "        constraints.append(lbda[i] <= v)\n",
    "        constraints = phi_conj(gamma,s[i],t[i],w[i],constraints)\n",
    "    constraints.append(alpha + beta + gamma * r  + v@const + p@t <= c)\n",
    "    obj = cp.Minimize(c)\n",
    "    prob = cp.Problem(obj,constraints)\n",
    "    prob.solve(solver=cp.MOSEK)\n",
    "    return(y.value, c.value)"
   ]
  },
  {
   "cell_type": "code",
   "execution_count": 6,
   "id": "7ece6b76",
   "metadata": {},
   "outputs": [],
   "source": [
    "def r_obj_calc(d,y,par_news):\n",
    "    [v_news, l_news, s_news, c_news] = par_news\n",
    "    return((s_news-v_news)*np.maximum(y-d,0)-l_news*np.maximum(d-y,0)+(v_news-c_news)*y)\n",
    "\n",
    "### some technical function that converge a list to a set with certain properties\n",
    "def ranktoset (A):    \n",
    "    A = list(A)\n",
    "    sets = [[A[0]]]\n",
    "    for i in range(1,len(A)):\n",
    "        new = A[0:i+1]\n",
    "        sets.append(new)\n",
    "    return(sets)\n",
    "\n",
    "### This function calculates the worst case risk evaluation given a solution.\n",
    "\n",
    "def robustcheck_riskmin(y,d,r,p,par,par_mnews,indices,h_func, phi_func):   \n",
    "    N = len(p)                                                              \n",
    "    profit_value = np.zeros(N)\n",
    "    for i in range(N):\n",
    "        for j in range(len(par_mnews)):\n",
    "            profit_value[i] = profit_value[i] + r_obj_calc(d[indices[i][j]],y[j],par_mnews[j])\n",
    "    rank = np.argsort(profit_value)\n",
    "    sets = ranktoset(rank)\n",
    "    q_b = cp.Variable(N, nonneg = True)\n",
    "    q = cp.Variable(N, nonneg=True)\n",
    "    constraints = [cp.sum(q) == 1, cp.sum(q_b)==1]\n",
    "    constraints = h_func(q_b,q,rank,par,constraints)\n",
    "    constraints = phi_func(p,q,r,par,constraints)\n",
    "    obj = cp.Maximize(-q_b.T @ profit_value)\n",
    "    prob = cp.Problem(obj,constraints)\n",
    "    prob.solve(solver=cp.MOSEK)\n",
    "    return(prob.value,q_b.value,q.value)"
   ]
  },
  {
   "cell_type": "markdown",
   "id": "c9951d48",
   "metadata": {},
   "source": [
    "The following code performs the experiment of comparing the robust solution and the nominal solution with respect to the fictitious sample size that is assumed to estimate the nominal probability $\\mathbf{p}$. "
   ]
  },
  {
   "cell_type": "code",
   "execution_count": 17,
   "id": "8fa518af",
   "metadata": {},
   "outputs": [
    {
     "name": "stdout",
     "output_type": "stream",
     "text": [
      "0\n",
      "1\n",
      "2\n",
      "3\n",
      "4\n",
      "5\n",
      "6\n",
      "7\n",
      "8\n",
      "9\n"
     ]
    },
    {
     "name": "stderr",
     "output_type": "stream",
     "text": [
      "The PostScript backend does not support transparency; partially transparent artists will be rendered opaque.\n"
     ]
    },
    {
     "data": {
      "image/png": "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",
      "text/plain": [
       "<Figure size 640x480 with 1 Axes>"
      ]
     },
     "metadata": {},
     "output_type": "display_data"
    }
   ],
   "source": [
    "Nsize = np.arange(10,500,50)\n",
    "L = len(Nsize)\n",
    "wcrisk_rob = np.zeros(L)\n",
    "wcrisk_nom = np.zeros(L)\n",
    "for i in range(L):\n",
    "    r = phi_dot/(2*Nsize[i])*scipy.stats.chi2.ppf(0.95, m-1)    ### determining the radius of the phi-divergence set\n",
    "    wcrisk_rob[i] = mnews_affine_riskmin(p,d,r,indices,par_mnews,phi_conj,np.array([1/(1-par),0]),np.array([0,1]))[1]\n",
    "    res_nom = mnews_affine_riskmin(p,d,0,indices,par_mnews,phi_conj,np.array([1/(1-par),0]),np.array([0,1]))[0]\n",
    "    print(i)\n",
    "    wcrisk_nom[i] = robustcheck_riskmin(res_nom,d,r,p,par,par_mnews,indices,hf.h_cvar_cut, phi.kb_cut)[0]\n",
    "plt.plot(Nsize, wcrisk_rob, label = 'robust solution')\n",
    "plt.plot(Nsize, wcrisk_nom,'--', label = 'nominal solution')\n",
    "plt.xlabel('n')\n",
    "plt.ylabel('worst case risk evaluation')\n",
    "plt.legend()\n",
    "plt.savefig('mnewline09.eps', format = 'eps')"
   ]
  }
 ],
 "metadata": {
  "kernelspec": {
   "display_name": "Python 3 (ipykernel)",
   "language": "python",
   "name": "python3"
  },
  "language_info": {
   "codemirror_mode": {
    "name": "ipython",
    "version": 3
   },
   "file_extension": ".py",
   "mimetype": "text/x-python",
   "name": "python",
   "nbconvert_exporter": "python",
   "pygments_lexer": "ipython3",
   "version": "3.11.4"
  }
 },
 "nbformat": 4,
 "nbformat_minor": 5
}
