{
 "cells": [
  {
   "cell_type": "markdown",
   "id": "600265ef",
   "metadata": {},
   "source": [
    "# Robust Portfolio Optimization\n",
    "We use the returns of six portfolios formed on size and book-to-market (2$\\times$3) obtained from Kenneth French's website. \n",
    "We choose monthly returns from 1984 January to 2014 January. \n",
    "This gives us a total of $N=360$ return realizations for each of the six portfolios.\n",
    "\n",
    "Let $\\mathbf{a}\\in \\mathbb{R}^6$ be an investment strategy on the six portfolios. \n",
    "We assume that the initial wealth level at time $t_0=0$ is $W_0=5$ and one does not buy or burrow more than the initial wealth, i.e. $|a_i|\\leq 5$. Let $\\mathbf{R}$ be a $360\\times 6$ matrix with $\\mathbf{r}_1,\\ldots,\\mathbf{r}_{360}\\in \\mathbb{R}^6$ the vectors of realisations of returns for all six portfolios. For each realisation $\\mathbf{r}_i$, the wealth level after a single period is defined as $W_0(1+\\mathbf{a}^T\\mathbf{r}_i)=5(1+\\mathbf{a}^T\\mathbf{r}_i)$. We consider the following worst case risk evaluation minimization problem \n",
    "\\begin{align}\n",
    "\\begin{split}\n",
    "\\min_{\\mathbf{a}\\in \\mathbb{R}^{6},|a_i|\\leq 5, c\\in \\mathbb{R}}\\{c|\\sup_{(\\mathbf{q},\\bar{\\mathbf{q}})\\in U_{\\phi,h}}-\\sum^{360}_{i=1}\\bar{q}_iu(5(1+\\mathbf{a}^T\\mathbf{r}_i))\\leq c, \\mathbf{a}^T\\mathbf{1}=1\\},   \n",
    "\\end{split}\n",
    "\\end{align}\n",
    "where we choose the modified chi-squared function $\\phi(x)=(x-1)^2$ with radius $r=\\frac{\\phi''(1)}{2N}\\chi^2_{d,0.95}$ and $d=N-1=359$. Furthermore, we choose $h(p)=1-(1-p)^2,~p\\in[0,1]$ as the distortion function and $u(x)=1-e^{-x/\\lambda}$ with $\\lambda=10$ the exponential utility function.\n",
    "The solution of this problem will be compared to the nominal risk evaluation minimization problem, where the nominal probability is the uniform distirbution $p_i=\\frac{1}{360}$.\n",
    "\\begin{align}\n",
    "\\begin{split}\n",
    "\\min_{\\mathbf{a}\\in \\mathbb{R}^6,|a_i|\\leq 5, c\\in \\mathbb{R}}\\{c|&\\sup_{\\bar{\\mathbf{q}}\\in M_h(\\mathbf{p})}-\\sum^{360}_{i=1}\\bar{q}_iu(5(1+\\mathbf{a}^T\\mathbf{r}_i))\\leq c, \\mathbf{a}^T\\mathbf{1}=1\\}.    \n",
    "\\end{split}\n",
    "\\end{align}"
   ]
  },
  {
   "cell_type": "code",
   "execution_count": 1,
   "id": "f0eb2502",
   "metadata": {},
   "outputs": [],
   "source": [
    "import numpy as np\n",
    "import pandas as pd\n",
    "import cvxpy as cp\n",
    "import mosek\n",
    "import matplotlib.pyplot as plt\n",
    "import datetime as date\n",
    "from datetime import datetime as dt\n",
    "from dateutil.relativedelta import *\n",
    "import scipy.stats\n",
    "from scipy.stats import rankdata\n",
    "import distortion_function as hf\n",
    "import phi_divergence as phi\n",
    "import affine_approx as af\n",
    "import Utility_functions as ut\n",
    "import Cutting_plane as ct\n",
    "from time import process_time\n",
    "import Hit_and_Run as hr"
   ]
  },
  {
   "cell_type": "code",
   "execution_count": 2,
   "id": "2cc7641d",
   "metadata": {},
   "outputs": [
    {
     "data": {
      "text/html": [
       "<div>\n",
       "<style scoped>\n",
       "    .dataframe tbody tr th:only-of-type {\n",
       "        vertical-align: middle;\n",
       "    }\n",
       "\n",
       "    .dataframe tbody tr th {\n",
       "        vertical-align: top;\n",
       "    }\n",
       "\n",
       "    .dataframe thead th {\n",
       "        text-align: right;\n",
       "    }\n",
       "</style>\n",
       "<table border=\"1\" class=\"dataframe\">\n",
       "  <thead>\n",
       "    <tr style=\"text-align: right;\">\n",
       "      <th></th>\n",
       "      <th>Date</th>\n",
       "      <th>SMALL LoBM</th>\n",
       "      <th>ME1 BM2</th>\n",
       "      <th>SMALL HiBM</th>\n",
       "      <th>BIG LoBM</th>\n",
       "      <th>ME2 BM2</th>\n",
       "      <th>BIG HiBM</th>\n",
       "    </tr>\n",
       "  </thead>\n",
       "  <tbody>\n",
       "    <tr>\n",
       "      <th>0</th>\n",
       "      <td>1926-07-01</td>\n",
       "      <td>1.0874</td>\n",
       "      <td>0.9349</td>\n",
       "      <td>-0.0695</td>\n",
       "      <td>5.7168</td>\n",
       "      <td>1.9620</td>\n",
       "      <td>1.4222</td>\n",
       "    </tr>\n",
       "    <tr>\n",
       "      <th>1</th>\n",
       "      <td>1926-08-01</td>\n",
       "      <td>0.7030</td>\n",
       "      <td>1.2300</td>\n",
       "      <td>5.3842</td>\n",
       "      <td>2.7154</td>\n",
       "      <td>2.6930</td>\n",
       "      <td>6.3154</td>\n",
       "    </tr>\n",
       "    <tr>\n",
       "      <th>2</th>\n",
       "      <td>1926-09-01</td>\n",
       "      <td>-2.9117</td>\n",
       "      <td>-0.1303</td>\n",
       "      <td>-0.4374</td>\n",
       "      <td>1.4287</td>\n",
       "      <td>0.0704</td>\n",
       "      <td>-0.7967</td>\n",
       "    </tr>\n",
       "    <tr>\n",
       "      <th>3</th>\n",
       "      <td>1926-10-01</td>\n",
       "      <td>-3.8196</td>\n",
       "      <td>-4.5860</td>\n",
       "      <td>-2.0112</td>\n",
       "      <td>-3.5898</td>\n",
       "      <td>-2.3398</td>\n",
       "      <td>-4.0970</td>\n",
       "    </tr>\n",
       "    <tr>\n",
       "      <th>4</th>\n",
       "      <td>1926-11-01</td>\n",
       "      <td>3.1806</td>\n",
       "      <td>3.7233</td>\n",
       "      <td>2.0944</td>\n",
       "      <td>3.1292</td>\n",
       "      <td>2.8952</td>\n",
       "      <td>3.4614</td>\n",
       "    </tr>\n",
       "    <tr>\n",
       "      <th>...</th>\n",
       "      <td>...</td>\n",
       "      <td>...</td>\n",
       "      <td>...</td>\n",
       "      <td>...</td>\n",
       "      <td>...</td>\n",
       "      <td>...</td>\n",
       "      <td>...</td>\n",
       "    </tr>\n",
       "    <tr>\n",
       "      <th>1139</th>\n",
       "      <td>2021-06-01</td>\n",
       "      <td>5.6058</td>\n",
       "      <td>0.4400</td>\n",
       "      <td>-1.0979</td>\n",
       "      <td>4.8188</td>\n",
       "      <td>-1.2594</td>\n",
       "      <td>-4.0036</td>\n",
       "    </tr>\n",
       "    <tr>\n",
       "      <th>1140</th>\n",
       "      <td>2021-07-01</td>\n",
       "      <td>-5.5593</td>\n",
       "      <td>-1.8623</td>\n",
       "      <td>-3.6521</td>\n",
       "      <td>3.1048</td>\n",
       "      <td>-0.0099</td>\n",
       "      <td>-2.3000</td>\n",
       "    </tr>\n",
       "    <tr>\n",
       "      <th>1141</th>\n",
       "      <td>2021-08-01</td>\n",
       "      <td>2.3903</td>\n",
       "      <td>1.5124</td>\n",
       "      <td>2.6680</td>\n",
       "      <td>3.5667</td>\n",
       "      <td>1.4122</td>\n",
       "      <td>3.0371</td>\n",
       "    </tr>\n",
       "    <tr>\n",
       "      <th>1142</th>\n",
       "      <td>2021-09-01</td>\n",
       "      <td>-4.3421</td>\n",
       "      <td>-3.4661</td>\n",
       "      <td>0.6445</td>\n",
       "      <td>-5.4525</td>\n",
       "      <td>-3.8570</td>\n",
       "      <td>-0.2526</td>\n",
       "    </tr>\n",
       "    <tr>\n",
       "      <th>1143</th>\n",
       "      <td>2021-10-01</td>\n",
       "      <td>2.9626</td>\n",
       "      <td>3.7688</td>\n",
       "      <td>3.8617</td>\n",
       "      <td>8.0441</td>\n",
       "      <td>3.1530</td>\n",
       "      <td>6.2389</td>\n",
       "    </tr>\n",
       "  </tbody>\n",
       "</table>\n",
       "<p>1144 rows × 7 columns</p>\n",
       "</div>"
      ],
      "text/plain": [
       "           Date  SMALL LoBM  ME1 BM2  SMALL HiBM  BIG LoBM  ME2 BM2  BIG HiBM\n",
       "0    1926-07-01      1.0874   0.9349     -0.0695    5.7168   1.9620    1.4222\n",
       "1    1926-08-01      0.7030   1.2300      5.3842    2.7154   2.6930    6.3154\n",
       "2    1926-09-01     -2.9117  -0.1303     -0.4374    1.4287   0.0704   -0.7967\n",
       "3    1926-10-01     -3.8196  -4.5860     -2.0112   -3.5898  -2.3398   -4.0970\n",
       "4    1926-11-01      3.1806   3.7233      2.0944    3.1292   2.8952    3.4614\n",
       "...         ...         ...      ...         ...       ...      ...       ...\n",
       "1139 2021-06-01      5.6058   0.4400     -1.0979    4.8188  -1.2594   -4.0036\n",
       "1140 2021-07-01     -5.5593  -1.8623     -3.6521    3.1048  -0.0099   -2.3000\n",
       "1141 2021-08-01      2.3903   1.5124      2.6680    3.5667   1.4122    3.0371\n",
       "1142 2021-09-01     -4.3421  -3.4661      0.6445   -5.4525  -3.8570   -0.2526\n",
       "1143 2021-10-01      2.9626   3.7688      3.8617    8.0441   3.1530    6.2389\n",
       "\n",
       "[1144 rows x 7 columns]"
      ]
     },
     "execution_count": 2,
     "metadata": {},
     "output_type": "execute_result"
    }
   ],
   "source": [
    "### Reading the Kenneth-French return data's\n",
    "df_returns6 = pd.read_csv('6_Portfolios_2x3.csv', skiprows = 15) \n",
    "df_returns = df_returns6[0:1144].copy()\n",
    "df_returns['Date'] = pd.to_datetime(df_returns['Date'], format = '%Y%m')\n",
    "for i in range(1, len(df_returns.columns)):\n",
    "    df_returns[df_returns.columns[i]] = pd.to_numeric(df_returns[df_returns.columns[i]])\n",
    "df_returns"
   ]
  },
  {
   "cell_type": "code",
   "execution_count": 3,
   "id": "a7c4df60",
   "metadata": {},
   "outputs": [],
   "source": [
    "### Selecting the return values between 1984 and 2014, since everything was in percentage, we divde the return by 100\n",
    "startdate = dt(1984,1,3)\n",
    "enddate = dt(2014,1,3)\n",
    "X = df_returns[np.logical_and(df_returns.Date >= startdate, df_returns.Date <= enddate )][df_returns.columns[1:7]]\n",
    "X = X.reset_index(drop = True)\n",
    "R = X.to_numpy()     \n",
    "R = R/100\n",
    "#### The risk free rate is taken to be 0.07%\n",
    "r_f = 0.0007  \n",
    "W0 = 5"
   ]
  },
  {
   "cell_type": "markdown",
   "id": "7d4017e0",
   "metadata": {},
   "source": [
    "We specify the $\\phi$, $h$ and $u$ functions."
   ]
  },
  {
   "cell_type": "code",
   "execution_count": 4,
   "id": "099a19bc",
   "metadata": {},
   "outputs": [],
   "source": [
    "phi_func = phi.mod_chi2_cut\n",
    "phi_conj = phi.mod_chi2_conj\n",
    "phi_dot = 2\n",
    "\n",
    "h_conj = hf.h_spw_conj\n",
    "h_func = hf.h_spw_cut\n",
    "h_eva = hf.h_spw_eva\n",
    "### parameter of h function, in this case we have h(p)=1-(1-p)^2, hence we take par = 2\n",
    "h_par = 2 \n",
    "\n",
    "utility = ut.exp_utility\n",
    "utility_eva = ut.exp_utility_eva\n",
    "\n",
    "### Defining the nominal probability vector and denote I the number of assets\n",
    "N=R.shape[0]\n",
    "p = np.zeros(N)+1/N\n",
    "I = R.shape[1]\n",
    "\n",
    "\n",
    "### defining phi-divergence uncertainty set radius\n",
    "alpha_phi_set = 0.95\n",
    "r = phi_dot/(2*N)*scipy.stats.chi2.ppf(alpha_phi_set, N-1)   "
   ]
  },
  {
   "cell_type": "markdown",
   "id": "1cf3e022",
   "metadata": {},
   "source": [
    "The worst case risk evaluation minimization problem will be solved using the piecewise-linear approximation method and the rank-induced robust counterpart algorithm. The former yields a lower bound and the latter yields an upper bound. To initiate the piecewise-linear approximation method, we need to obtain the slopes and the constants that constitutes the piecewise linear approximation."
   ]
  },
  {
   "cell_type": "code",
   "execution_count": 5,
   "id": "fc5e215f",
   "metadata": {},
   "outputs": [],
   "source": [
    "\n",
    "### The precision of the PL approximation\n",
    "e_pl = 0.001       \n",
    "\n",
    "### This gives the slope and constants that constitutes the PL approximation of h(p)=1-(1-p)^2\n",
    "x_points = af.affine_approx_hspw(h_par,e_pl)     \n",
    "[slope, const] = af.makepoints(af.sing_pw,x_points,par = h_par)  \n",
    "                                                               "
   ]
  },
  {
   "cell_type": "code",
   "execution_count": 6,
   "id": "8164daf5",
   "metadata": {},
   "outputs": [],
   "source": [
    "###The following function can calculate the approximated solution using the rank-induced robust counterpart algorithm  \n",
    "\n",
    "def RC_exputility_pmin(sets,p,R,r,phi_conj, h_conj,W0,par=2,par_u=1):\n",
    "    N = len(p)\n",
    "    I = len(R[0])\n",
    "    M = len(sets)\n",
    "    c = cp.Variable(1)\n",
    "    v = cp.Variable(M)\n",
    "    lbda = cp.Variable(M, nonneg = True)\n",
    "    a = cp.Variable(I)\n",
    "    alpha = cp.Variable(1)\n",
    "    beta = cp.Variable(1)\n",
    "    gamma = cp.Variable(1,nonneg = True)\n",
    "    t = cp.Variable(N)\n",
    "    z = cp.Variable(M)\n",
    "    s = cp.Variable(N)\n",
    "    w = cp.Variable(N)\n",
    "    constraints=[cp.abs(a)<=W0, cp.sum(a)==1]\n",
    "    for i in range(N):\n",
    "        lbdasum = 0\n",
    "        vsum = 0\n",
    "        for j in range(M):\n",
    "            if i in sets[j]:\n",
    "                lbdasum = lbdasum + lbda[j]\n",
    "                vsum = vsum + v[j]\n",
    "        arg = -W0*(1+(R @ a)[i])/par_u\n",
    "        constraints.append(-(1-cp.exp(arg)) - lbdasum - beta <= 0)\n",
    "        constraints.append(s[i] == -alpha + vsum)\n",
    "        constraints = phi_conj(gamma,s[i],t[i],w[i],constraints)\n",
    "    constraints = h_conj(lbda,v,z,par,constraints)\n",
    "    constraints.append(alpha + beta + gamma * r  + cp.sum(z) + p@t <= c)\n",
    "    obj = cp.Minimize(c)\n",
    "    prob = cp.Problem(obj,constraints)\n",
    "    prob.solve(solver=cp.MOSEK)\n",
    "    return(a.value, prob.value)\n",
    "\n",
    "\n",
    "### The following function can calculate the approximated solution using the picewise-linear approximation method\n",
    "\n",
    "def af_RC_exp_pmin(p,R,r,phi_conj,slope,const,W0,par = 2, par_u = 1):\n",
    "    N = len(p)\n",
    "    I = len(R[0])\n",
    "    K = len(slope)\n",
    "    c = cp.Variable(1)\n",
    "    lbda = cp.Variable((N,K), nonneg = True)\n",
    "    a = cp.Variable(I)\n",
    "    v = cp.Variable(K, nonneg = True)\n",
    "    alpha = cp.Variable(1)\n",
    "    beta = cp.Variable(1)\n",
    "    gamma = cp.Variable(1,nonneg = True)\n",
    "    t = cp.Variable(N)\n",
    "    s = cp.Variable(N)\n",
    "    w = cp.Variable(N)\n",
    "    constraints = [cp.abs(a)<= W0, cp.sum(a) == 1]\n",
    "    for i in range(N):\n",
    "        arg = -W0*(1+(R @ a)[i])/par_u\n",
    "        constraints.append(-(1-cp.exp(arg)) - cp.sum(lbda[i]) - beta <= 0)\n",
    "        constraints.append(s[i] == -alpha + lbda[i]@slope)\n",
    "        constraints.append(lbda[i] <= v)\n",
    "        constraints = phi_conj(gamma,s[i],t[i],w[i],constraints)\n",
    "    constraints.append(alpha + beta + gamma * r  + v@const + p@t <= c)\n",
    "    obj = cp.Minimize(c)\n",
    "    prob = cp.Problem(obj,constraints)\n",
    "    prob.solve(solver=cp.MOSEK)\n",
    "    return(a.value, prob.value)\n"
   ]
  },
  {
   "cell_type": "code",
   "execution_count": 23,
   "id": "16a81428",
   "metadata": {},
   "outputs": [
    {
     "name": "stdout",
     "output_type": "stream",
     "text": [
      "(array([-1.55766188,  2.31243927, -0.39538981,  1.23519695, -0.18097537,\n",
      "       -0.41360916]), -0.37873350459491345)\n",
      "time 5.265625 seconds\n"
     ]
    }
   ],
   "source": [
    "t1_af_res = process_time()\n",
    "af_res = af_RC_exp_pmin(p,R,r,phi_conj,slope,const,W0,par = h_par, par_u = 10)\n",
    "t2_af_res = process_time()\n",
    "### the solution and objective value of the piecewise-linear approximation method\n",
    "print(af_res)   \n",
    "### Total run time of the algorithm\n",
    "print('time', t2_af_res- t1_af_res, 'seconds')"
   ]
  },
  {
   "cell_type": "code",
   "execution_count": 15,
   "id": "83fc7e55",
   "metadata": {},
   "outputs": [
    {
     "name": "stdout",
     "output_type": "stream",
     "text": [
      "(array([-1.55763529,  2.31217721, -0.3951753 ,  1.23521153, -0.18086841,\n",
      "       -0.41370974]), -0.3786601778588288)\n",
      "time 35.84375 seconds\n"
     ]
    }
   ],
   "source": [
    "w_af = af_res[0]\n",
    "### determining the rank of the pl solution to initiate rank-induced rc algorithm\n",
    "rank = np.argsort(W0*(1+R.dot(w_af)))    \n",
    "sets = ct.ranktoset(rank)\n",
    "t1_rc_res = process_time()\n",
    "rc_res = RC_exputility_pmin(sets,p,R,r,phi_conj, h_conj,W0,par=h_par,par_u=10)\n",
    "t2_rc_res = process_time()\n",
    "### the solution and objective value of the rank-induced robust counterpart algorithm\n",
    "print(rc_res)      \n",
    "print('time', t2_rc_res - t1_rc_res, 'seconds')"
   ]
  },
  {
   "cell_type": "markdown",
   "id": "b7e94150",
   "metadata": {},
   "source": [
    "The nominal solution can be approximately calculated using the piecewise-linear approximation method and set the phi-divergence radius $r$ to zero."
   ]
  },
  {
   "cell_type": "code",
   "execution_count": 19,
   "id": "79cb4354",
   "metadata": {},
   "outputs": [
    {
     "name": "stdout",
     "output_type": "stream",
     "text": [
      "(array([-1.90771996,  2.55136958,  0.09114196,  1.45125434, -0.6440066 ,\n",
      "       -0.54203934]), -0.3921887272593855)\n"
     ]
    }
   ],
   "source": [
    "### r = 0 is set here in the argument\n",
    "res_nom = af_RC_exp_pmin(p,R,0,phi_conj,slope,const,W0,par = h_par, par_u = 10)   \n",
    "print(res_nomaf)"
   ]
  },
  {
   "cell_type": "markdown",
   "id": "698aaab2",
   "metadata": {},
   "source": [
    "Alternatively, the nominal solution can also be calculated exactly by using the cutting-plane algorithm and set the precision of the cutting-plane parameter $\\epsilon_{tol}$ to zero. However, this method requires many iterations."
   ]
  },
  {
   "cell_type": "code",
   "execution_count": null,
   "id": "2c7b81ca",
   "metadata": {},
   "outputs": [],
   "source": [
    "tb = process_time()\n",
    "### eps_tol =0 is set here in the argument\n",
    "res_nom = ct.cut_nom_pmin(R,p,0,utility,utility_eva,h_eva,W0,par=h_par,par_u=10)  \n",
    "te = process_time()\n",
    "print('time', te-tb, 'seconds')"
   ]
  },
  {
   "cell_type": "code",
   "execution_count": 21,
   "id": "f4407006",
   "metadata": {},
   "outputs": [
    {
     "name": "stdout",
     "output_type": "stream",
     "text": [
      "-0.37794744914733636\n"
     ]
    }
   ],
   "source": [
    "#### Calculating the worst case risk of the nominal solution\n",
    "w_nom = res_nom[0]       \n",
    "x_nom = ut.exp_utility_eva(R,w_nom,W0,10)\n",
    "print(ct.robustcheck(x_nom,p,h_func,phi_func,r,h_par)[0])"
   ]
  },
  {
   "cell_type": "code",
   "execution_count": 22,
   "id": "e64c30d9",
   "metadata": {},
   "outputs": [
    {
     "name": "stdout",
     "output_type": "stream",
     "text": [
      "-0.3918807225379179\n"
     ]
    }
   ],
   "source": [
    "### Calculating the nominal risk of the robust solution, which is taken as the solution of rc_res\n",
    "w_rob = rc_res[0]\n",
    "x_rob = ut.exp_utility_eva(R,w_rob,W0,10)\n",
    "[risk_robnom, qb_nomrb]=ct.nominal_risk(x_rob,p,h_eva,h_par) \n",
    "print(risk_robnom)    "
   ]
  },
  {
   "cell_type": "markdown",
   "id": "8c7d686b",
   "metadata": {},
   "source": [
    "Consider now a portfolio return maximization problem under a worst case risk evaluation constraint. Using nearly the same parameters setting as in the previous problem (except for we set $W_0=100$, $\\lambda=200$ so that we can get higher return), we aim to solve the robust problem\n",
    "\\begin{align}\\label{robust_problem_experiment}\n",
    "    \\begin{split}\n",
    "        \\max_{\\mathbf{a}\\in \\mathbb{R}^6: |a_i|\\leq 100}&\\sum^{360}_{k=1}p_ku(5(1+\\mathbf{a}^T\\mathbf{r}_k+(1-\\mathbf{a}^T\\mathbf{1})r_f))\\\\\n",
    "        \\text{subject to}&~ \\sup_{(\\mathbf{q},\\bar{\\mathbf{q}})\\in U_{\\phi,h}}-\\sum^{360}_{k=1}\\bar{q}_ku(5(1+\\mathbf{a}^T\\mathbf{r}_k+(1-\\mathbf{a}^T\\mathbf{1})r_f))\\leq c.\n",
    "    \\end{split}\n",
    "\\end{align}\n",
    "The nominal problem is defined as\n",
    "\\begin{align}\\label{nominal_experiment}\n",
    "    \\begin{split}\n",
    "        \\max_{\\mathbf{a}\\in \\mathbb{R}^6: |a_i|\\leq 100}&\\sum^{360}_{k=1}p_ku(5(1+\\mathbf{a}^T\\mathbf{r}_k+(1-\\mathbf{a}^T\\mathbf{1})r_f))\\\\\n",
    "        \\text{subject to}&~ \\sup_{\\bar{\\mathbf{q}}\\in M_h(\\mathbf{p})}-\\sum^{360}_{k=1}\\bar{q}_ku(5(1+\\mathbf{a}^T\\mathbf{r}_k+(1-\\mathbf{a}^T\\mathbf{1})r_f))\\leq c.\n",
    "    \\end{split}\n",
    "\\end{align}"
   ]
  },
  {
   "cell_type": "code",
   "execution_count": 14,
   "id": "f22c3306",
   "metadata": {},
   "outputs": [],
   "source": [
    "#### Changing the utility function code that is suitable for this maximization problem\n",
    "utility = ut.exp_utility_pmax\n",
    "utility_eva = ut.exp_utility_eva_pmax\n",
    "### Set the risk evaluation constraint c = 0.02\n",
    "c = 0.02\n",
    "W0 = 100"
   ]
  },
  {
   "cell_type": "code",
   "execution_count": 8,
   "id": "a1535263",
   "metadata": {},
   "outputs": [],
   "source": [
    "#### Re-initialize the slope and constants of the piecewise-linear approximations\n",
    "e_pl = 0.001 \n",
    "x_points = af.affine_approx_hspw(h_par,e_pl)     \n",
    "[slope, const] = af.makepoints(af.sing_pw,x_points,par = h_par)"
   ]
  },
  {
   "cell_type": "code",
   "execution_count": 12,
   "id": "142b3d4f",
   "metadata": {},
   "outputs": [],
   "source": [
    "### These functions uses the piecewise linear approximation method and the rank-induced robust counterpart method for\n",
    "### the maximization problems\n",
    "\n",
    "\n",
    "def RC_exputility_pmax(sets,p,R,r,c,r_f,phi_conj, h_conj,W0,par=2,par_u=1):\n",
    "    N = len(p)\n",
    "    I = len(R[0])\n",
    "    M = len(sets)\n",
    "    v = cp.Variable(M)\n",
    "    lbda = cp.Variable(M, nonneg = True)\n",
    "    a = cp.Variable(I)\n",
    "    alpha = cp.Variable(1)\n",
    "    beta = cp.Variable(1)\n",
    "    gamma = cp.Variable(1,nonneg = True)\n",
    "    t = cp.Variable(N)\n",
    "    z = cp.Variable(M)\n",
    "    s = cp.Variable(N)\n",
    "    w = cp.Variable(N)\n",
    "    constraints=[cp.abs(a)<=W0]\n",
    "    f_obj = 0\n",
    "    for i in range(N):\n",
    "        lbdasum = 0\n",
    "        vsum = 0\n",
    "        for j in range(M):\n",
    "            if i in sets[j]:\n",
    "                lbdasum = lbdasum + lbda[j]\n",
    "                vsum = vsum + v[j]\n",
    "        arg = -(W0*(1+(R @ a)[i]+(1-cp.sum(a))*r_f))/par_u\n",
    "        f_obj = (1-cp.exp(arg))*p[i] + f_obj\n",
    "        constraints.append(-(1-cp.exp(arg)) - lbdasum - beta <= 0)\n",
    "        constraints.append(s[i] == -alpha + vsum)\n",
    "        constraints = phi_conj(gamma,s[i],t[i],w[i],constraints)\n",
    "    constraints = h_conj(lbda,v,z,par,constraints)\n",
    "    constraints.append(alpha + beta + gamma * r  + cp.sum(z) + p@t <= c)\n",
    "    obj = cp.Maximize(f_obj)\n",
    "    prob = cp.Problem(obj,constraints)\n",
    "    prob.solve(solver=cp.MOSEK)\n",
    "    return(a.value, prob.value)\n",
    "\n",
    "def af_RC_exp_pmax(p,R,r,r_f,c,phi_conj,slope,const,W0,par = 2, par_u = 1):\n",
    "    N = len(p)\n",
    "    I = len(R[0])\n",
    "    K = len(slope)\n",
    "    lbda = cp.Variable((N,K), nonneg = True)\n",
    "    a = cp.Variable(I)\n",
    "    v = cp.Variable(K, nonneg = True)\n",
    "    alpha = cp.Variable(1)\n",
    "    beta = cp.Variable(1)\n",
    "    gamma = cp.Variable(1,nonneg = True)\n",
    "    t = cp.Variable(N)\n",
    "    s = cp.Variable(N)\n",
    "    w = cp.Variable(N)\n",
    "    constraints = [cp.abs(a)<= W0]\n",
    "    f_obj = 0\n",
    "    for i in range(N):\n",
    "        arg = -(W0*(1+(R @ a)[i]+(1-cp.sum(a))*r_f))/par_u\n",
    "        f_obj = (1-cp.exp(arg))*p[i] + f_obj\n",
    "        constraints.append(-(1-cp.exp(arg)) - cp.sum(lbda[i]) - beta <= 0)\n",
    "        constraints.append(s[i] == -alpha + lbda[i]@slope)\n",
    "        constraints.append(lbda[i] <= v)\n",
    "        constraints = phi_conj(gamma,s[i],t[i],w[i],constraints)\n",
    "    constraints.append(alpha + beta + gamma * r  + v@const + p@t <= c)\n",
    "    obj = cp.Maximize(f_obj)\n",
    "    prob = cp.Problem(obj,constraints)\n",
    "    prob.solve(solver=cp.MOSEK)\n",
    "    return(a.value, prob.value)"
   ]
  },
  {
   "cell_type": "code",
   "execution_count": 15,
   "id": "c8b38d3b",
   "metadata": {},
   "outputs": [
    {
     "name": "stdout",
     "output_type": "stream",
     "text": [
      "(array([-41.45716   ,  55.81420784,   0.44551949,  26.61893252,\n",
      "       -16.10308739, -10.69012328]), 0.44772711598820836)\n",
      "seconds 6.078125\n",
      "(array([-41.34189433,  55.65820961,   0.43623302,  26.52841499,\n",
      "       -16.06510988, -10.64736032]), 0.44770022010098304)\n",
      "seconds 6.140625\n",
      "(array([-41.36258815,  55.69373123,   0.4380042 ,  26.54956699,\n",
      "       -16.07116502, -10.6581975 ]), 0.4477091583929269)\n",
      "res-time 34.328125 seconds\n"
     ]
    }
   ],
   "source": [
    "t1_af = process_time()\n",
    "##### Obtaining an upper bound of using piecewise-linear approximation\n",
    "af_pmax_res = af_RC_exp_pmax(p,R,r,r_f,c,phi_conj,slope,const,W0,par = h_par, par_u = 200)\n",
    "t2_af = process_time()\n",
    "print(af_pmax_res)\n",
    "print('seconds', t2_af-t1_af)\n",
    "t1_af_l = process_time()\n",
    "#### Obtaining a lower bound using piecewise-linear approximation, by adding the error term e_pl to the constants\n",
    "af_pmax_res_l = af_RC_exp_pmax(p,R,r,r_f,c,phi_conj,slope,const+e_pl,W0,par = h_par, par_u = 200)\n",
    "t2_af_l = process_time()\n",
    "print(af_pmax_res_l)\n",
    "print('seconds', t2_af_l-t1_af_l)\n",
    "#### Obtaining a lower bound using the rank-induced robust counterpart algorithm\n",
    "w_af_rob = af_pmax_res[0]\n",
    "rank = np.argsort(W0*(1+R.dot(w_af_rob)+(1-np.sum(w_af_rob))*r_f))\n",
    "sets = ct.ranktoset(rank)\n",
    "t1_resct = process_time()\n",
    "rc_robmax = RC_exputility_pmax(sets,p,R,r,c,r_f,phi_conj, h_conj,W0,par=2,par_u=200)\n",
    "t2_resct = process_time()\n",
    "print(rc_robmax)\n",
    "print('res-time',t2_resct-t1_resct, 'seconds')"
   ]
  },
  {
   "cell_type": "markdown",
   "id": "bdb0d863",
   "metadata": {},
   "source": [
    "Alternatively, one can compute a solution using the cutting-plane and the rank-indcued robust counterpart algorithms"
   ]
  },
  {
   "cell_type": "code",
   "execution_count": 16,
   "id": "47f82097",
   "metadata": {},
   "outputs": [
    {
     "name": "stdout",
     "output_type": "stream",
     "text": [
      "0.07754350224598186 0.02 0\n",
      "0.020472059982278613 0.02 1\n",
      "cut-time: 17.375\n",
      "(array([-41.47371081,  55.83687808,   0.41341288,  26.59427596,\n",
      "       -16.12152565, -10.65382054]), 0.4477138709398567, 1)\n",
      "res-time 34.0\n",
      "(array([-41.41842187,  55.7936817 ,   0.39746181,  26.56581941,\n",
      "       -16.10659185, -10.64642667]), 0.44770904082638724)\n"
     ]
    }
   ],
   "source": [
    "#### The cutting-plane algorithm with tolerance parameter e_tol\n",
    "e_tol = 0.001 \n",
    "t1_cutstart = process_time()\n",
    "cut_res = ct.cut_rob_pmax(R,p,e_tol,utility,utility_eva,h_func,phi_func,h_eva,r, r_f, c, W0, par=h_par, par_u=200)\n",
    "t1_cutstop = process_time()\n",
    "print(\"cut-time:\", t1_cutstop-t1_cutstart) \n",
    "print(cut_res)\n",
    "#### Determining the rank of the cutting-plane solution to compute the rank-induced robust counterpart\n",
    "w_cut = cut_res[0]\n",
    "rank = np.argsort(W0*(1+R.dot(w_cut)+(1-np.sum(w_cut))*r_f))\n",
    "sets = ct.ranktoset(rank)\n",
    "t1_resct = process_time()\n",
    "rc_resmax = RC_exputility_pmax(sets,p,R,r,c,r_f,phi_conj, h_conj,W0,par=h_par,par_u=200)\n",
    "t2_resct = process_time()\n",
    "print('res-time',t2_resct-t1_resct)\n",
    "print(rc_resmax)"
   ]
  },
  {
   "cell_type": "markdown",
   "id": "fb05be00",
   "metadata": {},
   "source": [
    "The nominal solution and its worst case risk evaluation is calculated below by setting $r=0$"
   ]
  },
  {
   "cell_type": "code",
   "execution_count": 18,
   "id": "3ef9e8bc",
   "metadata": {},
   "outputs": [
    {
     "name": "stdout",
     "output_type": "stream",
     "text": [
      "(array([-43.86009335,  59.07676109,   0.60714823,  28.4956384 ,\n",
      "       -16.92814972, -11.54146516]), 0.44799771243526954)\n",
      "(array([-43.86013074,  59.07682119,   0.60718407,  28.49569954,\n",
      "       -16.92813808, -11.54151869]), 0.4479977124330769)\n",
      "0.0775450454974164\n"
     ]
    }
   ],
   "source": [
    "nom_afres = af_RC_exp_pmax(p,R,0,r_f,c,phi_conj,slope,const,W0,par = h_par, par_u = 200)\n",
    "print(nom_afres)\n",
    "w_af_nom = nom_afres[0]\n",
    "nom_afres1 = af_RC_exp_pmax(p,R,0,r_f,c,phi_conj,slope,const+e_pl,W0,par = h_par, par_u = 200)\n",
    "print(nom_afres1)\n",
    "x_nommax = ut.exp_utility_eva_pmax(R,r_f,nom_afres1[0],W0,200)\n",
    "print(ct.robustcheck(x_nommax,p,h_func,phi_func,r,h_par)[0])"
   ]
  }
 ],
 "metadata": {
  "kernelspec": {
   "display_name": "Python 3",
   "language": "python",
   "name": "python3"
  },
  "language_info": {
   "codemirror_mode": {
    "name": "ipython",
    "version": 3
   },
   "file_extension": ".py",
   "mimetype": "text/x-python",
   "name": "python",
   "nbconvert_exporter": "python",
   "pygments_lexer": "ipython3",
   "version": "3.8.8"
  }
 },
 "nbformat": 4,
 "nbformat_minor": 5
}
